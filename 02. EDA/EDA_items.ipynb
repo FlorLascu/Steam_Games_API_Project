{
 "cells": [
  {
   "cell_type": "markdown",
   "metadata": {},
   "source": [
    "# EDA Analysis\n",
    "**El propósito final de este análisis es definir, para el modelo de recomendación solicitado y las diferentes funciones, para cada conjunto de datos y función, las columnas y datos correspondientes que serán necesarios**.\n",
    "\n",
    "### Durante el proceso ETL ya nos ocupamos de:\n",
    "\n",
    "[ETL_items](01.%20ETL/ETL_items.ipynb)<br>\n",
    "-   valores faltantes y limpieza de datos\n",
    "-   eliminación de columnas de información irrelevante\n",
    "-   eliminación de filas con información no existente o no válida\n",
    "-   eliminación de valores duplicados\n",
    "-   corrección de todos los tipos de datos para cada columna y dato\n",
    "\n",
    "### Entonces en el **Análisis EDA** nos enfocaremos principalmente en:\n",
    "-   búsqueda de valores atípicos\n",
    "-   estadísticas y descripción de datos\n",
    "-   transformación de datos\n",
    "-   Variables:\n",
    "    - user_id: Este user_id es el identificador único para cada uno de los usuarios en la columna de la plataforma\n",
    "    - item_id: identificador único del juego en la plataforma\n",
    "    - item_name: nombre del juego o aplicación\n",
    "    - playtime_forever: El número total de minutos jugados \"registrados\"\n",
    "    - playtime_2weeks: El número total de minutos jugados en las últimas 2 semanas\n",
    "-   Análisis multivariable:\n",
    "\n",
    "### Un resumen de lo que encontrarás en el cuaderno:\n",
    "\n",
    "#### User_id\n",
    "Este user_id es el identificador único para cada uno de los usuarios en la plataforma.\n",
    "**Hallazgos**\n",
    "- Cuántos usuarios están registrados en la plataforma\n",
    "\n",
    "#### item_id\n",
    "- Cuántos juegos son elementos en las cuentas de los usuarios\n",
    "- Porcentaje del total de juegos\n",
    "- Promedio de cantidad de juegos por usuario\n",
    "- Los 10 elementos más vendidos (más usuarios lo tienen)\n",
    "- Los 10 juegos más jugados en las últimas 2 semanas\n",
    "\n",
    "#### Atípicos para item_id por usuario\n",
    "\n",
    "**Hallazgos**\n",
    "* La cantidad promedio de juegos por usuario es de 71 juegos\n",
    "* Más del 50% de los usuarios poseen más de 40 juegos cada uno.\n",
    "* Solo hay 39 usuarios con más de 2000 juegos cada uno, esto se considerará como atípicos pero representan menos del 0.056%\n",
    "* La **cantidad máxima** de juegos propiedad de un usuario es de *7762 juegos*\n",
    "- Los 10 elementos más vendidos (más usuarios lo tienen)\n",
    "\n",
    "#### item_name\n",
    "Este es el nombre del juego.\n",
    "\n",
    "### playtime_forever\n",
    "El número total de minutos jugados \"registrados\"\n",
    "- \tTop 5 usuarios con más minutos jugados en total\n",
    "-\tTop 5 juegos con más minutos jugados\n",
    "-\tPromedio de minutos jugados por usuario\n",
    "-\tPromedio de minutos por juego\n",
    "\n",
    "**Hallazgos**\n",
    "* Los 10 mejores juegos representan aproximadamente el 41% del tiempo total de juego.\n",
    "* El tiempo de juego promedio por usuario es de 1497 minutos\n",
    "* El 50% de todos los usuarios juegan más de 887 minutos.\n",
    "* El promedio de minutos por juego es de 277 minutos\n",
    "* El 50% de los juegos se juegan durante más de 90 minutos en promedio\n",
    "\n",
    "### playtime_2weeks\n",
    "El número total de minutos jugados \"registrados\" en las últimas 2 semanas\n",
    "- \tTop 5 usuarios con más minutos jugados en total\n",
    "-\tTop 5 juegos con más minutos jugados\n",
    "-\tPromedio de minutos jugados por usuario\n",
    "-\tPromedio de minutos por juego\n"
   ]
  },
  {
   "cell_type": "code",
   "execution_count": 1,
   "metadata": {},
   "outputs": [],
   "source": [
    "import json\n",
    "import os\n",
    "import pandas as pd\n",
    "import gzip\n",
    "import ast\n",
    "import numpy as np\n",
    "import re\n",
    "import matplotlib.pyplot as plt\n",
    "from sklearn.preprocessing import LabelEncoder\n",
    "from datetime import datetime\n",
    "import seaborn as sns  "
   ]
  },
  {
   "cell_type": "markdown",
   "metadata": {},
   "source": [
    "## Comenzamos por cargar el dataframe de parquet a pandas "
   ]
  },
  {
   "cell_type": "code",
   "execution_count": 2,
   "metadata": {},
   "outputs": [],
   "source": [
    "# Definimos el path al .parquet file\n",
    "items = 'data/items.parquet'\n",
    "\n",
    "# Leemos el .parquet file a un DataFrame\n",
    "df_items = pd.read_parquet(items)"
   ]
  },
  {
   "cell_type": "markdown",
   "metadata": {},
   "source": [
    "# 2.3 Items"
   ]
  },
  {
   "cell_type": "code",
   "execution_count": 3,
   "metadata": {},
   "outputs": [
    {
     "data": {
      "text/html": [
       "<div>\n",
       "<style scoped>\n",
       "    .dataframe tbody tr th:only-of-type {\n",
       "        vertical-align: middle;\n",
       "    }\n",
       "\n",
       "    .dataframe tbody tr th {\n",
       "        vertical-align: top;\n",
       "    }\n",
       "\n",
       "    .dataframe thead th {\n",
       "        text-align: right;\n",
       "    }\n",
       "</style>\n",
       "<table border=\"1\" class=\"dataframe\">\n",
       "  <thead>\n",
       "    <tr style=\"text-align: right;\">\n",
       "      <th></th>\n",
       "      <th>user_id</th>\n",
       "      <th>item_id</th>\n",
       "      <th>item_name</th>\n",
       "      <th>playtime_forever</th>\n",
       "      <th>playtime_2weeks</th>\n",
       "    </tr>\n",
       "  </thead>\n",
       "  <tbody>\n",
       "    <tr>\n",
       "      <th>0</th>\n",
       "      <td>76561197970982479</td>\n",
       "      <td>10</td>\n",
       "      <td>Counter-Strike</td>\n",
       "      <td>6</td>\n",
       "      <td>0</td>\n",
       "    </tr>\n",
       "    <tr>\n",
       "      <th>1</th>\n",
       "      <td>76561197970982479</td>\n",
       "      <td>20</td>\n",
       "      <td>Team Fortress Classic</td>\n",
       "      <td>0</td>\n",
       "      <td>0</td>\n",
       "    </tr>\n",
       "    <tr>\n",
       "      <th>2</th>\n",
       "      <td>76561197970982479</td>\n",
       "      <td>30</td>\n",
       "      <td>Day of Defeat</td>\n",
       "      <td>7</td>\n",
       "      <td>0</td>\n",
       "    </tr>\n",
       "  </tbody>\n",
       "</table>\n",
       "</div>"
      ],
      "text/plain": [
       "             user_id  item_id              item_name  playtime_forever  \\\n",
       "0  76561197970982479       10         Counter-Strike                 6   \n",
       "1  76561197970982479       20  Team Fortress Classic                 0   \n",
       "2  76561197970982479       30          Day of Defeat                 7   \n",
       "\n",
       "   playtime_2weeks  \n",
       "0                0  \n",
       "1                0  \n",
       "2                0  "
      ]
     },
     "execution_count": 3,
     "metadata": {},
     "output_type": "execute_result"
    }
   ],
   "source": [
    "df_items.head(3)"
   ]
  },
  {
   "cell_type": "code",
   "execution_count": 4,
   "metadata": {},
   "outputs": [
    {
     "name": "stdout",
     "output_type": "stream",
     "text": [
      "<class 'pandas.core.frame.DataFrame'>\n",
      "RangeIndex: 5094082 entries, 0 to 5094081\n",
      "Data columns (total 5 columns):\n",
      " #   Column            Dtype \n",
      "---  ------            ----- \n",
      " 0   user_id           object\n",
      " 1   item_id           int64 \n",
      " 2   item_name         object\n",
      " 3   playtime_forever  int64 \n",
      " 4   playtime_2weeks   int64 \n",
      "dtypes: int64(3), object(2)\n",
      "memory usage: 194.3+ MB\n"
     ]
    }
   ],
   "source": [
    "df_items.info()"
   ]
  },
  {
   "cell_type": "markdown",
   "metadata": {},
   "source": [
    "### User_id\n",
    "#### Cuantos users hay registrados en la Plataforma Steam"
   ]
  },
  {
   "cell_type": "code",
   "execution_count": 6,
   "metadata": {},
   "outputs": [
    {
     "data": {
      "text/plain": [
       "70912"
      ]
     },
     "execution_count": 6,
     "metadata": {},
     "output_type": "execute_result"
    }
   ],
   "source": [
    "df_items['user_id'].nunique()"
   ]
  },
  {
   "cell_type": "markdown",
   "metadata": {},
   "source": [
    "### Item_id\n",
    "- ¿Cuántos juegos del total están registrados en las cuentas de los usuarios?"
   ]
  },
  {
   "cell_type": "code",
   "execution_count": 8,
   "metadata": {},
   "outputs": [
    {
     "name": "stdout",
     "output_type": "stream",
     "text": [
      "Total amount of games sold 10978\n",
      "This amount represents 49.0 % of the total amount of games available on the platform\n"
     ]
    }
   ],
   "source": [
    "amount_of_games_sold = df_items['item_id'].nunique()\n",
    "\n",
    "percentage_items = round((df_items['item_id'].nunique()/22530),2)*100\n",
    "\n",
    "print('Total amount of games sold', amount_of_games_sold)\n",
    "print('This amount represents', percentage_items,'% of the total amount of games available on the platform')"
   ]
  },
  {
   "cell_type": "markdown",
   "metadata": {},
   "source": [
    "- Cantidad promedio de juegos por usuario"
   ]
  },
  {
   "cell_type": "code",
   "execution_count": 9,
   "metadata": {},
   "outputs": [
    {
     "name": "stdout",
     "output_type": "stream",
     "text": [
      "Average items per user: 71.83667080324909\n"
     ]
    }
   ],
   "source": [
    "# Group the DataFrame by 'user_id' and calculate the count of items per user\n",
    "items_per_user = df_items.groupby('user_id')['item_id'].count()\n",
    "\n",
    "# Calculate the average count of items per user\n",
    "average_items_per_user = items_per_user.mean()\n",
    "\n",
    "# Display the average\n",
    "print(\"Average items per user:\", average_items_per_user)"
   ]
  },
  {
   "cell_type": "code",
   "execution_count": 10,
   "metadata": {},
   "outputs": [
    {
     "data": {
      "text/plain": [
       "count    70912.000000\n",
       "mean        71.836671\n",
       "std        132.366763\n",
       "min          1.000000\n",
       "25%         14.000000\n",
       "50%         40.000000\n",
       "75%         87.000000\n",
       "max       7762.000000\n",
       "Name: item_id, dtype: float64"
      ]
     },
     "execution_count": 10,
     "metadata": {},
     "output_type": "execute_result"
    }
   ],
   "source": [
    "items_per_user.describe()"
   ]
  },
  {
   "cell_type": "markdown",
   "metadata": {},
   "source": [
    "* El promedio de juegos por usuario es de 71 juegos.\n",
    "* Más del 50% de los usuarios poseen más de 40 juegos cada uno.\n",
    "* Solo hay 39 usuarios con más de 2000 juegos cada uno, estos serán considerados valores atípicos pero representan menos del 0.056%.\n",
    "* La **cantidad máxima** de juegos propiedad de un usuario es de *7762 juegos*."
   ]
  },
  {
   "cell_type": "markdown",
   "metadata": {},
   "source": [
    "#### Outliers para items_id por user"
   ]
  },
  {
   "cell_type": "code",
   "execution_count": null,
   "metadata": {},
   "outputs": [
    {
     "data": {
      "image/png": "[encoded data removed]",
      "text/plain": [
       "<Figure size 1600x400 with 2 Axes>"
      ]
     },
     "metadata": {},
     "output_type": "display_data"
    }
   ],
   "source": [
    "# Agrupar el DataFrame por 'user_id' y calcular el conteo de elementos por usuario\n",
    "elementos_por_usuario = df_elementos.groupby('user_id')['item_id'].count()\n",
    "\n",
    "# Z-Score\n",
    "z_scores = (elementos_por_usuario - elementos_por_usuario.mean()) / elementos_por_usuario.std()\n",
    "valores_atípicos_zscore = elementos_por_usuario[abs(z_scores) > 3]\n",
    "\n",
    "# Crear subtramas con dos filas y una sola columna\n",
    "fig, axs = plt.subplots(2, 1, figsize=(16, 4))\n",
    "\n",
    "# Diagrama de caja\n",
    "axs[0].boxplot(elementos_por_usuario, vert=False)\n",
    "axs[0].set_title('Diagrama de Caja de Elementos por Usuario')\n",
    "axs[0].set_xlabel('Elementos por Usuario')\n",
    "axs[0].set_ylabel('Elementos')\n",
    "\n",
    "# Gráfico de puntos\n",
    "sns.stripplot(x=elementos_por_usuario, ax=axs[1], color='blue', alpha=0.5)\n",
    "axs[1].set_title('Gráfico de Puntos de Elementos por Usuario')\n",
    "axs[1].set_xlabel('Elementos por Usuario')\n",
    "axs[1].set_ylabel('Elementos')\n",
    "\n",
    "# Ajustar el diseño\n",
    "plt.tight_layout()\n",
    "\n",
    "# Mostrar gráficos\n",
    "plt.show()\n"
   ]
  },
  {
   "cell_type": "code",
   "execution_count": null,
   "metadata": {},
   "outputs": [
    {
     "name": "stdout",
     "output_type": "stream",
     "text": [
      " amount of users with more than 2000 games 39\n"
     ]
    },
    {
     "data": {
      "text/html": [
       "<div>\n",
       "<style scoped>\n",
       "    .dataframe tbody tr th:only-of-type {\n",
       "        vertical-align: middle;\n",
       "    }\n",
       "\n",
       "    .dataframe tbody tr th {\n",
       "        vertical-align: top;\n",
       "    }\n",
       "\n",
       "    .dataframe thead th {\n",
       "        text-align: right;\n",
       "    }\n",
       "</style>\n",
       "<table border=\"1\" class=\"dataframe\">\n",
       "  <thead>\n",
       "    <tr style=\"text-align: right;\">\n",
       "      <th></th>\n",
       "      <th>user_id</th>\n",
       "      <th>item_id</th>\n",
       "    </tr>\n",
       "  </thead>\n",
       "  <tbody>\n",
       "    <tr>\n",
       "      <th>65868</th>\n",
       "      <td>phrostb</td>\n",
       "      <td>7762</td>\n",
       "    </tr>\n",
       "    <tr>\n",
       "      <th>69170</th>\n",
       "      <td>thugnificent</td>\n",
       "      <td>6700</td>\n",
       "    </tr>\n",
       "    <tr>\n",
       "      <th>57814</th>\n",
       "      <td>chidvd</td>\n",
       "      <td>6410</td>\n",
       "    </tr>\n",
       "    <tr>\n",
       "      <th>65886</th>\n",
       "      <td>piepai</td>\n",
       "      <td>6132</td>\n",
       "    </tr>\n",
       "    <tr>\n",
       "      <th>64104</th>\n",
       "      <td>mayshowganmore</td>\n",
       "      <td>5027</td>\n",
       "    </tr>\n",
       "  </tbody>\n",
       "</table>\n",
       "</div>"
      ],
      "text/plain": [
       "              user_id  item_id\n",
       "65868         phrostb     7762\n",
       "69170    thugnificent     6700\n",
       "57814          chidvd     6410\n",
       "65886          piepai     6132\n",
       "64104  mayshowganmore     5027"
      ]
     },
     "execution_count": 24,
     "metadata": {},
     "output_type": "execute_result"
    }
   ],
   "source": [
    "# Agrupar el DataFrame original por 'user_id' y contar el número de elementos por usuario\n",
    "items_per_user = df_items.groupby('user_id')['item_id'].count().reset_index()\n",
    "users_with_more_than_2000_games = items_per_user[items_per_user['item_id'] > 2000]\n",
    "amount_users_morethan2000games = users_with_more_than_2000_games['item_id'].count()\n",
    "print(' amount of users with more than 2000 games', amount_users_morethan2000games)\n",
    "users_with_more_than_2000_games.sort_values(by='item_id', ascending=False).head()"
   ]
  },
  {
   "cell_type": "markdown",
   "metadata": {},
   "source": [
    "### Top 10 items mas vendidos"
   ]
  },
  {
   "cell_type": "code",
   "execution_count": 28,
   "metadata": {},
   "outputs": [
    {
     "data": {
      "text/plain": [
       "item_name\n",
       "Dota 2 Test                         49136\n",
       "Counter-Strike: Global Offensive    43331\n",
       "Garry's Mod                         42849\n",
       "Unturned                            38278\n",
       "Left 4 Dead 2 Beta                  36661\n",
       "Left 4 Dead 2                       36661\n",
       "Terraria                            28934\n",
       "Warframe                            25516\n",
       "Portal 2                            24206\n",
       "Counter-Strike: Source              23952\n",
       "Name: count, dtype: int64"
      ]
     },
     "execution_count": 28,
     "metadata": {},
     "output_type": "execute_result"
    }
   ],
   "source": [
    "df_items['item_name'].value_counts().head(10)"
   ]
  },
  {
   "cell_type": "code",
   "execution_count": 30,
   "metadata": {},
   "outputs": [
    {
     "data": {
      "image/png": "[encoded data removed]",
      "text/plain": [
       "<Figure size 1000x600 with 1 Axes>"
      ]
     },
     "metadata": {},
     "output_type": "display_data"
    }
   ],
   "source": [
    "# Get the top 10 most common item names\n",
    "top_items = df_items['item_name'].value_counts().head(10)\n",
    "\n",
    "# Plot the bar chart\n",
    "plt.figure(figsize=(10, 6))\n",
    "top_items.sort_values().plot(kind='barh', color='skyblue')\n",
    "plt.title('Top 10 Item Names')\n",
    "plt.xlabel('Count')\n",
    "plt.ylabel('Item Name')\n",
    "plt.show()"
   ]
  },
  {
   "cell_type": "markdown",
   "metadata": {},
   "source": [
    "### playtime_forever\n",
    "El número total de minutos jugados \"en registro\"\n",
    "#### \tPrincipales 5 usuarios con más minutos jugados en total"
   ]
  },
  {
   "cell_type": "code",
   "execution_count": 35,
   "metadata": {},
   "outputs": [
    {
     "data": {
      "text/plain": [
       "5045723942"
      ]
     },
     "execution_count": 35,
     "metadata": {},
     "output_type": "execute_result"
    }
   ],
   "source": [
    "df_items['playtime_forever'].sum() # Cantidad total de tiempo jugada en la plataforma"
   ]
  },
  {
   "cell_type": "code",
   "execution_count": 38,
   "metadata": {},
   "outputs": [
    {
     "data": {
      "text/html": [
       "<div>\n",
       "<style scoped>\n",
       "    .dataframe tbody tr th:only-of-type {\n",
       "        vertical-align: middle;\n",
       "    }\n",
       "\n",
       "    .dataframe tbody tr th {\n",
       "        vertical-align: top;\n",
       "    }\n",
       "\n",
       "    .dataframe thead th {\n",
       "        text-align: right;\n",
       "    }\n",
       "</style>\n",
       "<table border=\"1\" class=\"dataframe\">\n",
       "  <thead>\n",
       "    <tr style=\"text-align: right;\">\n",
       "      <th></th>\n",
       "      <th>user_id</th>\n",
       "      <th>item_name</th>\n",
       "      <th>playtime_forever</th>\n",
       "      <th>playtime_percentage</th>\n",
       "    </tr>\n",
       "  </thead>\n",
       "  <tbody>\n",
       "    <tr>\n",
       "      <th>0</th>\n",
       "      <td>--000--</td>\n",
       "      <td>ACE - Arena: Cyber Evolution</td>\n",
       "      <td>0</td>\n",
       "      <td>0.0</td>\n",
       "    </tr>\n",
       "    <tr>\n",
       "      <th>1</th>\n",
       "      <td>--000--</td>\n",
       "      <td>APB Reloaded</td>\n",
       "      <td>2763</td>\n",
       "      <td>0.0</td>\n",
       "    </tr>\n",
       "    <tr>\n",
       "      <th>2</th>\n",
       "      <td>--000--</td>\n",
       "      <td>AdVenture Capitalist</td>\n",
       "      <td>0</td>\n",
       "      <td>0.0</td>\n",
       "    </tr>\n",
       "    <tr>\n",
       "      <th>3</th>\n",
       "      <td>--000--</td>\n",
       "      <td>Apotheon Arena</td>\n",
       "      <td>74</td>\n",
       "      <td>0.0</td>\n",
       "    </tr>\n",
       "    <tr>\n",
       "      <th>4</th>\n",
       "      <td>--000--</td>\n",
       "      <td>BLOCKADE 3D</td>\n",
       "      <td>445</td>\n",
       "      <td>0.0</td>\n",
       "    </tr>\n",
       "    <tr>\n",
       "      <th>...</th>\n",
       "      <td>...</td>\n",
       "      <td>...</td>\n",
       "      <td>...</td>\n",
       "      <td>...</td>\n",
       "    </tr>\n",
       "    <tr>\n",
       "      <th>5073721</th>\n",
       "      <td>zzzmidmiss</td>\n",
       "      <td>Wallace &amp; Gromit Ep 2: The Last Resort</td>\n",
       "      <td>0</td>\n",
       "      <td>0.0</td>\n",
       "    </tr>\n",
       "    <tr>\n",
       "      <th>5073722</th>\n",
       "      <td>zzzmidmiss</td>\n",
       "      <td>Wallace &amp; Gromit Ep 3: Muzzled!</td>\n",
       "      <td>0</td>\n",
       "      <td>0.0</td>\n",
       "    </tr>\n",
       "    <tr>\n",
       "      <th>5073723</th>\n",
       "      <td>zzzmidmiss</td>\n",
       "      <td>Wallace &amp; Gromit Ep 4: The Bogey Man</td>\n",
       "      <td>0</td>\n",
       "      <td>0.0</td>\n",
       "    </tr>\n",
       "    <tr>\n",
       "      <th>5073724</th>\n",
       "      <td>zzzmidmiss</td>\n",
       "      <td>Warframe</td>\n",
       "      <td>10</td>\n",
       "      <td>0.0</td>\n",
       "    </tr>\n",
       "    <tr>\n",
       "      <th>5073725</th>\n",
       "      <td>zzzmidmiss</td>\n",
       "      <td>theHunter</td>\n",
       "      <td>16</td>\n",
       "      <td>0.0</td>\n",
       "    </tr>\n",
       "  </tbody>\n",
       "</table>\n",
       "<p>5073726 rows × 4 columns</p>\n",
       "</div>"
      ],
      "text/plain": [
       "            user_id                               item_name  playtime_forever  \\\n",
       "0           --000--            ACE - Arena: Cyber Evolution                 0   \n",
       "1           --000--                            APB Reloaded              2763   \n",
       "2           --000--                    AdVenture Capitalist                 0   \n",
       "3           --000--                          Apotheon Arena                74   \n",
       "4           --000--                             BLOCKADE 3D               445   \n",
       "...             ...                                     ...               ...   \n",
       "5073721  zzzmidmiss  Wallace & Gromit Ep 2: The Last Resort                 0   \n",
       "5073722  zzzmidmiss         Wallace & Gromit Ep 3: Muzzled!                 0   \n",
       "5073723  zzzmidmiss    Wallace & Gromit Ep 4: The Bogey Man                 0   \n",
       "5073724  zzzmidmiss                                Warframe                10   \n",
       "5073725  zzzmidmiss                               theHunter                16   \n",
       "\n",
       "         playtime_percentage  \n",
       "0                        0.0  \n",
       "1                        0.0  \n",
       "2                        0.0  \n",
       "3                        0.0  \n",
       "4                        0.0  \n",
       "...                      ...  \n",
       "5073721                  0.0  \n",
       "5073722                  0.0  \n",
       "5073723                  0.0  \n",
       "5073724                  0.0  \n",
       "5073725                  0.0  \n",
       "\n",
       "[5073726 rows x 4 columns]"
      ]
     },
     "execution_count": 38,
     "metadata": {},
     "output_type": "execute_result"
    }
   ],
   "source": [
    "# Agrupar el DataFrame por 'user_id' y sumar el 'playtime_forever'\n",
    "tiempo_total_por_usuario = df_elementos.groupby(['user_id', 'item_name'])['playtime_forever'].sum().reset_index()\n",
    "\n",
    "# Calcular el tiempo total de juego\n",
    "tiempo_total = df_items['playtime_forever'].sum()\n",
    "\n",
    "# Agregar una columna con el porcentaje de tiempo de juego para cada elemento\n",
    "tiempo_total_por_usuario['porcentaje_tiempo_juego'] = round((tiempo_total_por_usuario['playtime_forever'] / tiempo_total) * 100, 2)\n",
    "\n",
    "# Mostrar el DataFrame resultante\n",
    "tiempo_total_por_usuario\n"
   ]
  },
  {
   "cell_type": "markdown",
   "metadata": {},
   "source": [
    "####\tTop 10 games with the most minutes played"
   ]
  },
  {
   "cell_type": "code",
   "execution_count": 41,
   "metadata": {},
   "outputs": [
    {
     "data": {
      "text/html": [
       "<div>\n",
       "<style scoped>\n",
       "    .dataframe tbody tr th:only-of-type {\n",
       "        vertical-align: middle;\n",
       "    }\n",
       "\n",
       "    .dataframe tbody tr th {\n",
       "        vertical-align: top;\n",
       "    }\n",
       "\n",
       "    .dataframe thead th {\n",
       "        text-align: right;\n",
       "    }\n",
       "</style>\n",
       "<table border=\"1\" class=\"dataframe\">\n",
       "  <thead>\n",
       "    <tr style=\"text-align: right;\">\n",
       "      <th></th>\n",
       "      <th>item_id</th>\n",
       "      <th>item_name</th>\n",
       "      <th>playtime_forever</th>\n",
       "      <th>playtime_percentage</th>\n",
       "    </tr>\n",
       "  </thead>\n",
       "  <tbody>\n",
       "    <tr>\n",
       "      <th>23</th>\n",
       "      <td>730</td>\n",
       "      <td>Counter-Strike: Global Offensive</td>\n",
       "      <td>775784836</td>\n",
       "      <td>15.38</td>\n",
       "    </tr>\n",
       "    <tr>\n",
       "      <th>163</th>\n",
       "      <td>4000</td>\n",
       "      <td>Garry's Mod</td>\n",
       "      <td>441871026</td>\n",
       "      <td>8.76</td>\n",
       "    </tr>\n",
       "    <tr>\n",
       "      <th>1673</th>\n",
       "      <td>105600</td>\n",
       "      <td>Terraria</td>\n",
       "      <td>152997644</td>\n",
       "      <td>3.03</td>\n",
       "    </tr>\n",
       "    <tr>\n",
       "      <th>1543</th>\n",
       "      <td>72850</td>\n",
       "      <td>The Elder Scrolls V: Skyrim</td>\n",
       "      <td>134851450</td>\n",
       "      <td>2.67</td>\n",
       "    </tr>\n",
       "    <tr>\n",
       "      <th>2403</th>\n",
       "      <td>230410</td>\n",
       "      <td>Warframe</td>\n",
       "      <td>122726853</td>\n",
       "      <td>2.43</td>\n",
       "    </tr>\n",
       "    <tr>\n",
       "      <th>11</th>\n",
       "      <td>240</td>\n",
       "      <td>Counter-Strike: Source</td>\n",
       "      <td>111314706</td>\n",
       "      <td>2.21</td>\n",
       "    </tr>\n",
       "    <tr>\n",
       "      <th>21</th>\n",
       "      <td>550</td>\n",
       "      <td>Left 4 Dead 2</td>\n",
       "      <td>101191416</td>\n",
       "      <td>2.01</td>\n",
       "    </tr>\n",
       "    <tr>\n",
       "      <th>2162</th>\n",
       "      <td>218620</td>\n",
       "      <td>PAYDAY 2</td>\n",
       "      <td>98405781</td>\n",
       "      <td>1.95</td>\n",
       "    </tr>\n",
       "    <tr>\n",
       "      <th>326</th>\n",
       "      <td>8930</td>\n",
       "      <td>Sid Meier's Civilization V</td>\n",
       "      <td>81187409</td>\n",
       "      <td>1.61</td>\n",
       "    </tr>\n",
       "    <tr>\n",
       "      <th>2909</th>\n",
       "      <td>252490</td>\n",
       "      <td>Rust</td>\n",
       "      <td>80110135</td>\n",
       "      <td>1.59</td>\n",
       "    </tr>\n",
       "  </tbody>\n",
       "</table>\n",
       "</div>"
      ],
      "text/plain": [
       "      item_id                         item_name  playtime_forever  \\\n",
       "23        730  Counter-Strike: Global Offensive         775784836   \n",
       "163      4000                       Garry's Mod         441871026   \n",
       "1673   105600                          Terraria         152997644   \n",
       "1543    72850       The Elder Scrolls V: Skyrim         134851450   \n",
       "2403   230410                          Warframe         122726853   \n",
       "11        240            Counter-Strike: Source         111314706   \n",
       "21        550                     Left 4 Dead 2         101191416   \n",
       "2162   218620                          PAYDAY 2          98405781   \n",
       "326      8930        Sid Meier's Civilization V          81187409   \n",
       "2909   252490                              Rust          80110135   \n",
       "\n",
       "      playtime_percentage  \n",
       "23                  15.38  \n",
       "163                  8.76  \n",
       "1673                 3.03  \n",
       "1543                 2.67  \n",
       "2403                 2.43  \n",
       "11                   2.21  \n",
       "21                   2.01  \n",
       "2162                 1.95  \n",
       "326                  1.61  \n",
       "2909                 1.59  "
      ]
     },
     "execution_count": 41,
     "metadata": {},
     "output_type": "execute_result"
    }
   ],
   "source": [
    "# Agrupar el DataFrame por 'item_id' y 'item_name' y sumar el 'playtime_forever'\n",
    "tiempo_total_por_elemento = df_items.groupby(['item_id', 'item_name'])['playtime_forever'].sum().reset_index()\n",
    "\n",
    "# Calcular el tiempo total de juego\n",
    "tiempo_total = df_items['playtime_forever'].sum()\n",
    "\n",
    "# Agregar una columna con el porcentaje de tiempo de juego para cada elemento\n",
    "tiempo_total_por_elemento['porcentaje_tiempo_juego'] = round((tiempo_total_por_elemento['playtime_forever'] / tiempo_total) * 100, 2)\n",
    "\n",
    "# Mostrar el DataFrame resultante\n",
    "tiempo_total_por_elemento.sort_values(by='playtime_forever', ascending=False).head(10)\n"
   ]
  },
  {
   "cell_type": "code",
   "execution_count": 43,
   "metadata": {},
   "outputs": [
    {
     "data": {
      "image/png": "[encoded data removed]",
      "text/plain": [
       "<Figure size 1000x600 with 1 Axes>"
      ]
     },
     "metadata": {},
     "output_type": "display_data"
    }
   ],
   "source": [
    "# Sort the DataFrame by total playtime in descending order and select the top 10 items\n",
    "top_items = tiempo_total_por_elemento.sort_values(by='playtime_forever', ascending=False).head(10)\n",
    "\n",
    "# Create the horizontal bar plot\n",
    "plt.figure(figsize=(10, 6))\n",
    "plt.barh(top_items['item_name'], top_items['playtime_forever'], color='skyblue')\n",
    "plt.xlabel('Total Playtime')\n",
    "plt.ylabel('Item Name')\n",
    "plt.title('Top 10 Items by Total Playtime')\n",
    "plt.gca().invert_yaxis()  # Invert y-axis to display the highest value at the top\n",
    "plt.show()"
   ]
  },
  {
   "cell_type": "markdown",
   "metadata": {},
   "source": [
    "-\tAverage number of minutes played by user\n",
    "-\tAverage number of minutes per game"
   ]
  },
  {
   "cell_type": "code",
   "execution_count": 52,
   "metadata": {},
   "outputs": [
    {
     "data": {
      "text/plain": [
       "count    10978.000000\n",
       "mean       277.565159\n",
       "std        994.862408\n",
       "min          0.000000\n",
       "25%         13.583924\n",
       "50%         89.256609\n",
       "75%        204.886803\n",
       "max      38283.000000\n",
       "Name: playtime_forever, dtype: float64"
      ]
     },
     "execution_count": 52,
     "metadata": {},
     "output_type": "execute_result"
    }
   ],
   "source": [
    "# Promedoio para playtime por game\n",
    "avg_playtime_by_game = df_items.groupby('item_id')['playtime_forever'].mean()\n",
    "avg_playtime_by_game.describe()"
   ]
  },
  {
   "cell_type": "code",
   "execution_count": 50,
   "metadata": {},
   "outputs": [
    {
     "data": {
      "text/plain": [
       "count     70912.000000\n",
       "mean       1497.533975\n",
       "std        2823.894221\n",
       "min           0.000000\n",
       "25%         412.638020\n",
       "50%         887.333333\n",
       "75%        1728.892857\n",
       "max      216412.000000\n",
       "Name: playtime_forever, dtype: float64"
      ]
     },
     "execution_count": 50,
     "metadata": {},
     "output_type": "execute_result"
    }
   ],
   "source": [
    "# Promedio del  playtime por  user\n",
    "avg_playtime_by_user = df_items.groupby('user_id')['playtime_forever'].mean()\n",
    "avg_playtime_by_user.describe()"
   ]
  },
  {
   "cell_type": "markdown",
   "metadata": {},
   "source": [
    "* Los 10 juegos principales representan aproximadamente el 41% del tiempo total jugado.\n",
    "* El tiempo promedio de juego por usuario es de 1497 minutos.\n",
    "* El 50% de todos los usuarios juegan más de 887 minutos.\n",
    "* El promedio de minutos por juego es de 277 minutos.\n",
    "* El 50% de los juegos se juegan durante más de 90 minutos en promedio."
   ]
  }
 ],
 "metadata": {
  "kernelspec": {
   "display_name": "Python 3",
   "language": "python",
   "name": "python3"
  },
  "language_info": {
   "codemirror_mode": {
    "name": "ipython",
    "version": 3
   },
   "file_extension": ".py",
   "mimetype": "text/x-python",
   "name": "python",
   "nbconvert_exporter": "python",
   "pygments_lexer": "ipython3",
   "version": "3.12.0"
  }
 },
 "nbformat": 4,
 "nbformat_minor": 2
}
