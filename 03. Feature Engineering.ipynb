{
 "cells": [
  {
   "cell_type": "markdown",
   "metadata": {},
   "source": [
    "# Feature Engineering\n",
    "## 3.1. Sentiment Analysis of our user's reviews\n",
    "Conducting sentiment analysis on the reviews column involves several steps. Here's a basic outline of the process:\n",
    "\n",
    "1. **Preprocessing**: This step involves cleaning and preparing the text data for analysis. It may include tasks such as removing punctuation, converting text to lowercase, removing stop words, and handling special characters.\n",
    "\n",
    "2. **Tokenization**: Tokenization involves breaking down the text into individual words or tokens. This step is essential for further analysis.\n",
    "\n",
    "3. **Sentiment Analysis**: Once the text data is prepared, sentiment analysis can be performed. There are several libraries and techniques available for sentiment analysis, including lexicon-based approaches, machine learning models, and deep learning models.\n",
    "\n",
    "4. **Analysis and Visualization**: Finally, the results of the sentiment analysis can be analyzed and visualized to gain insights from the data."
   ]
  },
  {
   "cell_type": "markdown",
   "metadata": {},
   "source": [
    "We import the libraries we will be needing for the assignment"
   ]
  },
  {
   "cell_type": "code",
   "execution_count": 1,
   "metadata": {},
   "outputs": [],
   "source": [
    "import re\n",
    "import nltk\n",
    "from nltk.corpus import stopwords\n",
    "from nltk.tokenize import word_tokenize\n",
    "from nltk.sentiment.vader import SentimentIntensityAnalyzer\n",
    "import pandas as pd\n",
    "import numpy as np\n",
    "import matplotlib.pyplot as plt\n",
    "from langdetect import detect"
   ]
  },
  {
   "cell_type": "markdown",
   "metadata": {},
   "source": [
    "### We load the data into a pandas df"
   ]
  },
  {
   "cell_type": "code",
   "execution_count": 38,
   "metadata": {},
   "outputs": [],
   "source": [
    "# Define the file path for the Parquet file\n",
    "reviews = 'data/reviews.parquet'\n",
    "\n",
    "# Read the Parquet file into a pandas DataFrame\n",
    "df_reviews = pd.read_parquet(reviews)"
   ]
  },
  {
   "cell_type": "markdown",
   "metadata": {},
   "source": [
    "### 1. Preprocessing\n",
    "We'll start by cleaning and preparing the text data.<br>"
   ]
  },
  {
   "cell_type": "code",
   "execution_count": 39,
   "metadata": {},
   "outputs": [
    {
     "name": "stderr",
     "output_type": "stream",
     "text": [
      "[nltk_data] Downloading package stopwords to\n",
      "[nltk_data]     C:\\Users\\flore\\AppData\\Roaming\\nltk_data...\n",
      "[nltk_data]   Package stopwords is already up-to-date!\n",
      "[nltk_data] Downloading package punkt to\n",
      "[nltk_data]     C:\\Users\\flore\\AppData\\Roaming\\nltk_data...\n",
      "[nltk_data]   Package punkt is already up-to-date!\n"
     ]
    }
   ],
   "source": [
    "nltk.download('stopwords')\n",
    "nltk.download('punkt')\n",
    "\n",
    "def preprocess_text(text):\n",
    "    # Convert text to lowercase\n",
    "    text = text.lower()\n",
    "    # Remove special characters and numbers\n",
    "    text = re.sub(r'[^a-zA-Z\\s]', '', text)\n",
    "    # Tokenization\n",
    "    tokens = word_tokenize(text)\n",
    "    # Remove stopwords\n",
    "    stop_words = set(stopwords.words('english'))\n",
    "    filtered_tokens = [word for word in tokens if word not in stop_words]\n",
    "    # Join the tokens back into a single string\n",
    "    preprocessed_text = ' '.join(filtered_tokens)\n",
    "    return preprocessed_text"
   ]
  },
  {
   "cell_type": "markdown",
   "metadata": {},
   "source": [
    "### 2: Sentiment Analysis\n",
    "For sentiment analysis, we can use the VADER (Valence Aware Dictionary and sEntiment Reasoner) lexicon, which is available in the NLTK library."
   ]
  },
  {
   "cell_type": "code",
   "execution_count": 40,
   "metadata": {},
   "outputs": [],
   "source": [
    "# Initialize VADER\n",
    "sid = SentimentIntensityAnalyzer()\n",
    "\n",
    "def has_emoji(text):\n",
    "    # Define a regular expression pattern to match emojis\n",
    "    emoji_pattern = re.compile(\"[\"\n",
    "                               u\"\\U0001F600-\\U0001F64F\"  # emoticons\n",
    "                               u\"\\U0001F300-\\U0001F5FF\"  # symbols & pictographs\n",
    "                               u\"\\U0001F680-\\U0001F6FF\"  # transport & map symbols\n",
    "                               u\"\\U0001F1E0-\\U0001F1FF\"  # flags (iOS)\n",
    "                               \"]+\", flags=re.UNICODE)\n",
    "    # Check if the text contains emojis\n",
    "    return bool(emoji_pattern.search(text))\n",
    "\n",
    "def analyze_sentiment(text):\n",
    "    # Check if text is empty or None\n",
    "    if not text:\n",
    "        return 1  # Neutral\n",
    "    \n",
    "    # Check if text contains \"10/10\"\n",
    "    if \"10/10\" in text:\n",
    "        return 2  # Positive\n",
    "    \n",
    "    # Check if text contains emojis\n",
    "    if has_emoji(text):\n",
    "        return 1  # Neutral\n",
    "    \n",
    "    # Check if text is in English\n",
    "    try:\n",
    "        language = detect(text)\n",
    "        if language != 'en':\n",
    "            return 1  # Neutral\n",
    "    except:\n",
    "        pass  # If language detection fails, continue\n",
    "    \n",
    "    # Get the polarity scores\n",
    "    sentiment_scores = sid.polarity_scores(text)\n",
    "    \n",
    "    # Determine the sentiment label based on the compound score\n",
    "    if sentiment_scores['compound'] >= 0.05:\n",
    "        return 2  # Positive\n",
    "    elif sentiment_scores['compound'] <= -0.05:\n",
    "        return 0  # Negative\n",
    "    else:\n",
    "        return 1  # Neutral"
   ]
  },
  {
   "cell_type": "markdown",
   "metadata": {},
   "source": [
    "The compound score in VADER (Valence Aware Dictionary and sEntiment Reasoner) is a metric that represents the overall sentiment polarity of a piece of text. It's a single value that combines the scores of individual words in the text to provide an overall sentiment score.\n",
    "\n",
    "Here's how it's calculated:\n",
    "\n",
    "For each word in the text, VADER assigns a polarity score ranging from -1 (extremely negative) to +1 (extremely positive).\n",
    "The compound score is then computed by summing the polarity scores of all the words in the text and normalizing the result to a range between -1 and +1.\n",
    "So, a compound score of:\n",
    "<br>\n",
    "\n",
    "-   Greater than or equal to 0.05 is considered **positive**.\n",
    "-   Less than or equal to -0.05 is considered **negative**.\n",
    "-   Between -0.05 and 0.05 (inclusive) is considered **neutral**.\n",
    "<br>\n",
    "\n",
    "The sentiment label is determined based on these compound score thresholds. <br>\n",
    "If the compound score is above 0.05, it's classified as positive.<br> \n",
    "If it's below -0.05, it's classified as negative.<br> \n",
    "Otherwise, it's classified as neutral.<br>"
   ]
  },
  {
   "cell_type": "markdown",
   "metadata": {},
   "source": [
    "### 3: Applying Preprocessing and Sentiment Analysis to the Reviews Column\n",
    "We'll apply the preprocessing function to clean the text data and then apply sentiment analysis to each review"
   ]
  },
  {
   "cell_type": "code",
   "execution_count": 41,
   "metadata": {},
   "outputs": [],
   "source": [
    "# Apply preprocessing to the 'reviews' column\n",
    "df_reviews['clean_reviews'] = df_reviews['review_text'].apply(preprocess_text)\n",
    "\n",
    "# Apply sentiment analysis to the cleaned reviews\n",
    "df_reviews['sentiment'] = df_reviews['clean_reviews'].apply(analyze_sentiment)"
   ]
  },
  {
   "cell_type": "code",
   "execution_count": 42,
   "metadata": {},
   "outputs": [
    {
     "data": {
      "text/html": [
       "<div>\n",
       "<style scoped>\n",
       "    .dataframe tbody tr th:only-of-type {\n",
       "        vertical-align: middle;\n",
       "    }\n",
       "\n",
       "    .dataframe tbody tr th {\n",
       "        vertical-align: top;\n",
       "    }\n",
       "\n",
       "    .dataframe thead th {\n",
       "        text-align: right;\n",
       "    }\n",
       "</style>\n",
       "<table border=\"1\" class=\"dataframe\">\n",
       "  <thead>\n",
       "    <tr style=\"text-align: right;\">\n",
       "      <th></th>\n",
       "      <th>user_id</th>\n",
       "      <th>user_url</th>\n",
       "      <th>item_id</th>\n",
       "      <th>helpful</th>\n",
       "      <th>recommend</th>\n",
       "      <th>review_text</th>\n",
       "      <th>date</th>\n",
       "      <th>year</th>\n",
       "      <th>clean_reviews</th>\n",
       "      <th>sentiment</th>\n",
       "    </tr>\n",
       "  </thead>\n",
       "  <tbody>\n",
       "    <tr>\n",
       "      <th>0</th>\n",
       "      <td>76561197970982479</td>\n",
       "      <td>http://steamcommunity.com/profiles/76561197970...</td>\n",
       "      <td>1250</td>\n",
       "      <td>No ratings yet</td>\n",
       "      <td>True</td>\n",
       "      <td>Simple yet with great replayability. In my opi...</td>\n",
       "      <td>2011-11-05</td>\n",
       "      <td>2011</td>\n",
       "      <td>simple yet great replayability opinion zombie ...</td>\n",
       "      <td>2</td>\n",
       "    </tr>\n",
       "    <tr>\n",
       "      <th>1</th>\n",
       "      <td>76561197970982479</td>\n",
       "      <td>http://steamcommunity.com/profiles/76561197970...</td>\n",
       "      <td>22200</td>\n",
       "      <td>No ratings yet</td>\n",
       "      <td>True</td>\n",
       "      <td>It's unique and worth a playthrough.</td>\n",
       "      <td>2011-07-15</td>\n",
       "      <td>2011</td>\n",
       "      <td>unique worth playthrough</td>\n",
       "      <td>2</td>\n",
       "    </tr>\n",
       "    <tr>\n",
       "      <th>2</th>\n",
       "      <td>76561197970982479</td>\n",
       "      <td>http://steamcommunity.com/profiles/76561197970...</td>\n",
       "      <td>43110</td>\n",
       "      <td>No ratings yet</td>\n",
       "      <td>True</td>\n",
       "      <td>Great atmosphere. The gunplay can be a bit chu...</td>\n",
       "      <td>2011-04-21</td>\n",
       "      <td>2011</td>\n",
       "      <td>great atmosphere gunplay bit chunky times end ...</td>\n",
       "      <td>2</td>\n",
       "    </tr>\n",
       "    <tr>\n",
       "      <th>3</th>\n",
       "      <td>js41637</td>\n",
       "      <td>http://steamcommunity.com/id/js41637</td>\n",
       "      <td>251610</td>\n",
       "      <td>15 of 20 people (75%) found this review helpful</td>\n",
       "      <td>True</td>\n",
       "      <td>I know what you think when you see this title ...</td>\n",
       "      <td>2014-06-24</td>\n",
       "      <td>2014</td>\n",
       "      <td>know think see title barbie dreamhouse party i...</td>\n",
       "      <td>2</td>\n",
       "    </tr>\n",
       "    <tr>\n",
       "      <th>4</th>\n",
       "      <td>js41637</td>\n",
       "      <td>http://steamcommunity.com/id/js41637</td>\n",
       "      <td>227300</td>\n",
       "      <td>0 of 1 people (0%) found this review helpful</td>\n",
       "      <td>True</td>\n",
       "      <td>For a simple (it's actually not all that simpl...</td>\n",
       "      <td>2013-09-08</td>\n",
       "      <td>2013</td>\n",
       "      <td>simple actually simple truck driving simulator...</td>\n",
       "      <td>2</td>\n",
       "    </tr>\n",
       "  </tbody>\n",
       "</table>\n",
       "</div>"
      ],
      "text/plain": [
       "             user_id                                           user_url  \\\n",
       "0  76561197970982479  http://steamcommunity.com/profiles/76561197970...   \n",
       "1  76561197970982479  http://steamcommunity.com/profiles/76561197970...   \n",
       "2  76561197970982479  http://steamcommunity.com/profiles/76561197970...   \n",
       "3            js41637               http://steamcommunity.com/id/js41637   \n",
       "4            js41637               http://steamcommunity.com/id/js41637   \n",
       "\n",
       "   item_id                                          helpful  recommend  \\\n",
       "0     1250                                   No ratings yet       True   \n",
       "1    22200                                   No ratings yet       True   \n",
       "2    43110                                   No ratings yet       True   \n",
       "3   251610  15 of 20 people (75%) found this review helpful       True   \n",
       "4   227300     0 of 1 people (0%) found this review helpful       True   \n",
       "\n",
       "                                         review_text       date  year  \\\n",
       "0  Simple yet with great replayability. In my opi... 2011-11-05  2011   \n",
       "1               It's unique and worth a playthrough. 2011-07-15  2011   \n",
       "2  Great atmosphere. The gunplay can be a bit chu... 2011-04-21  2011   \n",
       "3  I know what you think when you see this title ... 2014-06-24  2014   \n",
       "4  For a simple (it's actually not all that simpl... 2013-09-08  2013   \n",
       "\n",
       "                                       clean_reviews  sentiment  \n",
       "0  simple yet great replayability opinion zombie ...          2  \n",
       "1                           unique worth playthrough          2  \n",
       "2  great atmosphere gunplay bit chunky times end ...          2  \n",
       "3  know think see title barbie dreamhouse party i...          2  \n",
       "4  simple actually simple truck driving simulator...          2  "
      ]
     },
     "execution_count": 42,
     "metadata": {},
     "output_type": "execute_result"
    }
   ],
   "source": [
    "df_reviews.head()"
   ]
  },
  {
   "cell_type": "markdown",
   "metadata": {},
   "source": [
    "### 4: Analysis and Visualization\n",
    "Finally, we can analyze the sentiment distribution and visualize the results."
   ]
  },
  {
   "cell_type": "code",
   "execution_count": 43,
   "metadata": {},
   "outputs": [
    {
     "data": {
      "image/png": "[encoded data removed]",
      "text/plain": [
       "<Figure size 640x480 with 1 Axes>"
      ]
     },
     "metadata": {},
     "output_type": "display_data"
    }
   ],
   "source": [
    "# Count the number of reviews for each sentiment\n",
    "sentiment_counts = df_reviews['sentiment'].value_counts()\n",
    "\n",
    "# Plot the sentiment distribution\n",
    "plt.bar(sentiment_counts.index, sentiment_counts.values)\n",
    "plt.xlabel('Sentiment')\n",
    "plt.ylabel('Number of Reviews')\n",
    "plt.title('Sentiment Distribution of Reviews')\n",
    "plt.show()"
   ]
  },
  {
   "cell_type": "markdown",
   "metadata": {},
   "source": [
    "### 5. Validation of the sentiment Analysis\n",
    "We will review how the model has classified some of the reviews to validate that the Sentiment Analysis is as requested"
   ]
  },
  {
   "cell_type": "code",
   "execution_count": 44,
   "metadata": {},
   "outputs": [],
   "source": [
    "df_negatives = df_reviews[df_reviews['sentiment'] == 0] \n",
    "df_positive = df_reviews[df_reviews['sentiment'] == 2] \n",
    "df_neutral = df_reviews[df_reviews['sentiment'] == 1] "
   ]
  },
  {
   "cell_type": "code",
   "execution_count": 45,
   "metadata": {},
   "outputs": [
    {
     "name": "stdout",
     "output_type": "stream",
     "text": [
      "Review: The only fighting game I can think of that is better than this one is Super Street Fighter II Turbo. Love fighting games? Pick this one up. Do play with a Pad/Arcade Stick though. You won't have much fun using the keyboard.\n",
      "Sentiment: 2\n"
     ]
    }
   ],
   "source": [
    "rows = 15001\n",
    "field1 = df_positive.iloc[rows]['review_text']  # Access the value of the first field\n",
    "field2 = df_positive.iloc[rows]['sentiment']  # Access the value of the second field\n",
    "print(\"Review:\", field1)\n",
    "print(\"Sentiment:\", field2)"
   ]
  },
  {
   "cell_type": "markdown",
   "metadata": {},
   "source": [
    "This above example shows that the sentiment analysis conducted is indeed correclty classifying reviews"
   ]
  },
  {
   "cell_type": "code",
   "execution_count": 46,
   "metadata": {},
   "outputs": [
    {
     "name": "stdout",
     "output_type": "stream",
     "text": [
      "Review: Good game. Has two diverse teams (Kharaa or the Frontiersman), offers the choice of fighting the opposing team as either an FPS or an RTS. Has challenging gameplay, with multiple weapons and armours to suit your playstyle, as either a large mech suit, to a lowly scout soldier armed with mines. 8.5/10\n",
      "Sentiment: 0\n"
     ]
    }
   ],
   "source": [
    "rows = 2054\n",
    "field3 = df_negatives.iloc[rows]['review_text']  # Access the value of the first field\n",
    "field4 = df_negatives.iloc[rows]['sentiment']  # Access the value of the second field\n",
    "print(\"Review:\", field3)\n",
    "print(\"Sentiment:\", field4)"
   ]
  },
  {
   "cell_type": "markdown",
   "metadata": {},
   "source": [
    "Again, this above example validates that the model is correctly identifying sentiments in the reviews."
   ]
  },
  {
   "cell_type": "code",
   "execution_count": 53,
   "metadata": {},
   "outputs": [
    {
     "name": "stdout",
     "output_type": "stream",
     "text": [
      "Review: Very good and amzing\n",
      "Sentiment: 1\n"
     ]
    }
   ],
   "source": [
    "rows = 3634\n",
    "field5 = df_neutral.iloc[rows]['review_text']  # Access the value of the first field\n",
    "field6 = df_neutral.iloc[rows]['sentiment']  # Access the value of the second field\n",
    "print(\"Review:\", field5)\n",
    "print(\"Sentiment:\", field6)"
   ]
  },
  {
   "cell_type": "markdown",
   "metadata": {},
   "source": [
    "As you can see from the above comment, the model is not so good at predicting neutral reviews. After many attempts to improve the neutral classification the code grows more complex but the results do not improve that much.<br>\n",
    "Finally, deciding on a more simpler course of action is best, it does not consume that many resources and time and it gets a result quite similar but with a much simpler approach and a much leaner model. "
   ]
  },
  {
   "cell_type": "code",
   "execution_count": 54,
   "metadata": {},
   "outputs": [
    {
     "name": "stdout",
     "output_type": "stream",
     "text": [
      "Final Classification results:\n",
      "_____________________________\n",
      "Positive classifications 28331  and  49.0 %\n",
      "Negative classifications 6614  and  11.0 %\n",
      "Neutral classifications 23455  and  40.0 %\n"
     ]
    }
   ],
   "source": [
    "percent_positives = df_positive['user_id'].count()/df_reviews['user_id'].count()\n",
    "percent_negatives = df_negatives['user_id'].count()/df_reviews['user_id'].count()\n",
    "percent_neutral = df_neutral['user_id'].count()/df_reviews['user_id'].count()\n",
    "\n",
    "print('Final Classification results:')\n",
    "print('_____________________________')\n",
    "print('Positive classifications', df_positive['user_id'].count(),' and ', round(percent_positives,2)*100,'%')\n",
    "print('Negative classifications', df_negatives['user_id'].count(), ' and ', round(percent_negatives,2)*100,'%')\n",
    "print('Neutral classifications', df_neutral['user_id'].count(), ' and ', round(percent_neutral,2)*100,'%')"
   ]
  },
  {
   "cell_type": "markdown",
   "metadata": {},
   "source": [
    "### After several attempts we decided to do the sentiment Analysis in the simpler solution, we add a new column with the more simpler model using Textblob library in python"
   ]
  },
  {
   "cell_type": "code",
   "execution_count": 55,
   "metadata": {},
   "outputs": [],
   "source": [
    "from textblob import TextBlob\n",
    "\n",
    "def analyze_sentiment_with_textblob(text):\n",
    "    # Check if the text contains '10/10'\n",
    "    if '10/10' in text:\n",
    "        return 2 # Positive\n",
    "    \n",
    "    # Check if the text is empty or None\n",
    "    if not text.strip():\n",
    "        return 1 # Neutral \n",
    "    \n",
    "    # Check if text contains emojis\n",
    "    if has_emoji(text):\n",
    "        return 1  # Neutral\n",
    "    \n",
    "    # Create a TextBlob object\n",
    "    blob = TextBlob(text)\n",
    "    \n",
    "    # Get the polarity score\n",
    "    polarity = blob.sentiment.polarity\n",
    "    \n",
    "    # Determine the sentiment label based on the polarity score\n",
    "    if polarity > 0 :\n",
    "        return 2 # Positive\n",
    "    elif polarity < 0 :\n",
    "        return 0 # Negative\n",
    "    else:\n",
    "        return 1 # neutral"
   ]
  },
  {
   "cell_type": "code",
   "execution_count": 56,
   "metadata": {},
   "outputs": [],
   "source": [
    "# Apply sentiment analysis to the cleaned reviews with textblob instead of nltk library and Vader method\n",
    "\n",
    "df_reviews['sentiment_textblob'] = df_reviews['clean_reviews'].apply(analyze_sentiment_with_textblob)"
   ]
  },
  {
   "cell_type": "code",
   "execution_count": 57,
   "metadata": {},
   "outputs": [
    {
     "data": {
      "image/png": "[encoded data removed]",
      "text/plain": [
       "<Figure size 640x480 with 1 Axes>"
      ]
     },
     "metadata": {},
     "output_type": "display_data"
    }
   ],
   "source": [
    "# Count the number of reviews for each sentiment\n",
    "sentiment_counts_txt = df_reviews['sentiment_textblob'].value_counts()\n",
    "\n",
    "# Plot the sentiment distribution\n",
    "plt.bar(sentiment_counts_txt.index, sentiment_counts_txt.values)\n",
    "plt.xlabel('Sentiment')\n",
    "plt.ylabel('Number of Reviews')\n",
    "plt.title('Sentiment Distribution of Reviews')\n",
    "plt.show()"
   ]
  },
  {
   "cell_type": "code",
   "execution_count": 58,
   "metadata": {},
   "outputs": [],
   "source": [
    "df_negatives_txt = df_reviews[df_reviews['sentiment_textblob'] == 0] \n",
    "df_positive_txt = df_reviews[df_reviews['sentiment_textblob'] == 2] \n",
    "df_neutral_txt = df_reviews[df_reviews['sentiment_textblob'] == 1] "
   ]
  },
  {
   "cell_type": "code",
   "execution_count": 59,
   "metadata": {},
   "outputs": [
    {
     "name": "stdout",
     "output_type": "stream",
     "text": [
      "Final Classification results:\n",
      "_____________________________\n",
      "Positive classifications 31148  and  53.0 %\n",
      "Negative classifications 13499  and  23.0 %\n",
      "Neutral classifications 13753  and  24.0 %\n"
     ]
    }
   ],
   "source": [
    "percent_positives = df_positive_txt['user_id'].count()/df_reviews['user_id'].count()\n",
    "percent_negatives = df_negatives_txt['user_id'].count()/df_reviews['user_id'].count()\n",
    "percent_neutral = df_neutral_txt['user_id'].count()/df_reviews['user_id'].count()\n",
    "\n",
    "print('Final Classification results:')\n",
    "print('_____________________________')\n",
    "print('Positive classifications', df_positive_txt['user_id'].count(),' and ', round(percent_positives,2)*100,'%')\n",
    "print('Negative classifications', df_negatives_txt['user_id'].count(), ' and ', round(percent_negatives,2)*100,'%')\n",
    "print('Neutral classifications', df_neutral_txt['user_id'].count(), ' and ', round(percent_neutral,2)*100,'%')"
   ]
  },
  {
   "cell_type": "markdown",
   "metadata": {},
   "source": [
    "### We can now drop the column review_txt and keep just the column sentiment, we are going to keep the sentimet obtain by the complex model using python nltk libraries\n",
    "Allthough more complex, and more complete, this library's output on detecting the positive and negative outcome was more assertive and for neutrals as well.\n",
    "We will keep both analysis and compare them in the EDA process."
   ]
  },
  {
   "cell_type": "code",
   "execution_count": 60,
   "metadata": {},
   "outputs": [],
   "source": [
    "df_reviews.drop(['clean_reviews','review_text'], axis=1,inplace=True)"
   ]
  },
  {
   "cell_type": "code",
   "execution_count": 61,
   "metadata": {},
   "outputs": [
    {
     "name": "stdout",
     "output_type": "stream",
     "text": [
      "<class 'pandas.core.frame.DataFrame'>\n",
      "RangeIndex: 58400 entries, 0 to 58399\n",
      "Data columns (total 9 columns):\n",
      " #   Column              Non-Null Count  Dtype         \n",
      "---  ------              --------------  -----         \n",
      " 0   user_id             58400 non-null  object        \n",
      " 1   user_url            58400 non-null  object        \n",
      " 2   item_id             58400 non-null  int64         \n",
      " 3   helpful             58400 non-null  object        \n",
      " 4   recommend           58400 non-null  bool          \n",
      " 5   date                58400 non-null  datetime64[ns]\n",
      " 6   year                58400 non-null  int32         \n",
      " 7   sentiment           58400 non-null  int64         \n",
      " 8   sentiment_textblob  58400 non-null  int64         \n",
      "dtypes: bool(1), datetime64[ns](1), int32(1), int64(3), object(3)\n",
      "memory usage: 3.4+ MB\n"
     ]
    }
   ],
   "source": [
    "df_reviews.info()"
   ]
  },
  {
   "cell_type": "markdown",
   "metadata": {},
   "source": [
    "### We store the transformed data in a parquet file for optimum space storage"
   ]
  },
  {
   "cell_type": "code",
   "execution_count": 62,
   "metadata": {},
   "outputs": [
    {
     "name": "stdout",
     "output_type": "stream",
     "text": [
      "reviews DataFrame was stored into data/reviews.parquet\n"
     ]
    }
   ],
   "source": [
    "# Define the file path for storing the Parquet file\n",
    "reviews = 'data/reviews.parquet'\n",
    "\n",
    "# Store the DataFrame as a Parquet file\n",
    "df_reviews.to_parquet(reviews, index=False)\n",
    "\n",
    "# Print a message confirming the storage location\n",
    "print(f'reviews DataFrame was stored into {reviews}')"
   ]
  },
  {
   "cell_type": "markdown",
   "metadata": {},
   "source": [
    "# 3.2 API Functions \n",
    "In this section of our notebook we are going to experiment and work on our requested API Functions.<br>\n",
    "These are:<br>\n",
    "1. **Developer** number of games and percentage of Free content by developer by year.<br>\n",
    "2. **User_data**: how much money has the user spent, what percentage, from the total number of games the user owns, has the user recommended from the reviews.recommend and how many games he purchased.<br>\n",
    "3. **User_for_genres**: this function must return the user with the largest amount of minutes for the given genres and a list of minutes accumulated per year since the release date<br>\n",
    "4. **Best_developer_year**: this function returns the top 3 developers based on the largest amount of recommendations for the given year (reviews.recommend = True and sentiment = 2)<br>\n",
    "5. **Developer_Reviews_Analyis**: given a developer, the function returns a dicctionary with developer as keys and the amount of Positive and Negative Sentiment Reviews.<br> "
   ]
  },
  {
   "cell_type": "code",
   "execution_count": 2,
   "metadata": {},
   "outputs": [],
   "source": [
    "# Define the file path for the Parquet file\n",
    "games = 'data/RS_games.parquet'\n",
    "reviews = 'data/RS_reviews.parquet'\n",
    "items = 'data/items.parquet'\n",
    "\n",
    "# Read the Parquet file into a pandas DataFrame\n",
    "df_games = pd.read_parquet(games)\n",
    "df_reviews = pd.read_parquet(reviews)   \n",
    "df_items = pd.read_parquet(items)\n"
   ]
  },
  {
   "cell_type": "markdown",
   "metadata": {},
   "source": [
    "## 3.2.1 **Developer** number of games and percentage of Free content by developer by year\n",
    "We'need to create a dataframe listing each game developer alongside their developed items, including the release year and respective prices."
   ]
  },
  {
   "cell_type": "code",
   "execution_count": 62,
   "metadata": {},
   "outputs": [],
   "source": [
    "df_developer = df_games.copy()"
   ]
  },
  {
   "cell_type": "code",
   "execution_count": 63,
   "metadata": {},
   "outputs": [],
   "source": [
    "df_developer.drop(['item_name','publisher','genres', 'action', 'adventure', 'animation modeling',\n",
    "       'audio production', 'casual', 'design illustration', 'early access',\n",
    "       'education', 'free to play', 'indie', 'massively multiplayer',\n",
    "       'photo editing', 'racing', 'rpg', 'simulation', 'software training',\n",
    "       'sports', 'strategy', 'utilities', 'video production', 'web publishing',\n",
    "       'clean_title'],axis=1, inplace= True)"
   ]
  },
  {
   "cell_type": "code",
   "execution_count": 252,
   "metadata": {},
   "outputs": [
    {
     "data": {
      "text/plain": [
       "developer\n",
       "Dovetail Games                                                           253\n",
       "KOEI TECMO GAMES CO., LTD.                                               180\n",
       "Ubisoft - San Francisco                                                  178\n",
       "Capcom                                                                   107\n",
       "Paradox Development Studio                                                97\n",
       "Stainless Games                                                           83\n",
       "DL Softworks                                                              78\n",
       "Relic Entertainment,Feral Interactive (Mac),Feral Interactive (Linux)     77\n",
       "Choice of Games                                                           76\n",
       "SCS Software                                                              73\n",
       "Name: count, dtype: int64"
      ]
     },
     "execution_count": 252,
     "metadata": {},
     "output_type": "execute_result"
    }
   ],
   "source": [
    "df_developer['developer'].value_counts().head(10)"
   ]
  },
  {
   "cell_type": "markdown",
   "metadata": {},
   "source": [
    "#### Creating the Developer Function"
   ]
  },
  {
   "cell_type": "code",
   "execution_count": 253,
   "metadata": {},
   "outputs": [
    {
     "data": {
      "text/html": [
       "<div>\n",
       "<style scoped>\n",
       "    .dataframe tbody tr th:only-of-type {\n",
       "        vertical-align: middle;\n",
       "    }\n",
       "\n",
       "    .dataframe tbody tr th {\n",
       "        vertical-align: top;\n",
       "    }\n",
       "\n",
       "    .dataframe thead th {\n",
       "        text-align: right;\n",
       "    }\n",
       "</style>\n",
       "<table border=\"1\" class=\"dataframe\">\n",
       "  <thead>\n",
       "    <tr style=\"text-align: right;\">\n",
       "      <th></th>\n",
       "      <th>item_id</th>\n",
       "      <th>developer</th>\n",
       "      <th>release_year</th>\n",
       "      <th>price</th>\n",
       "    </tr>\n",
       "  </thead>\n",
       "  <tbody>\n",
       "    <tr>\n",
       "      <th>169</th>\n",
       "      <td>256611</td>\n",
       "      <td>Dovetail Games</td>\n",
       "      <td>2009</td>\n",
       "      <td>4.99</td>\n",
       "    </tr>\n",
       "    <tr>\n",
       "      <th>170</th>\n",
       "      <td>256576</td>\n",
       "      <td>Dovetail Games</td>\n",
       "      <td>2009</td>\n",
       "      <td>4.99</td>\n",
       "    </tr>\n",
       "    <tr>\n",
       "      <th>271</th>\n",
       "      <td>208306</td>\n",
       "      <td>Dovetail Games</td>\n",
       "      <td>2009</td>\n",
       "      <td>17.99</td>\n",
       "    </tr>\n",
       "    <tr>\n",
       "      <th>273</th>\n",
       "      <td>208300</td>\n",
       "      <td>Dovetail Games</td>\n",
       "      <td>2009</td>\n",
       "      <td>19.99</td>\n",
       "    </tr>\n",
       "    <tr>\n",
       "      <th>404</th>\n",
       "      <td>24075</td>\n",
       "      <td>Dovetail Games</td>\n",
       "      <td>2010</td>\n",
       "      <td>4.99</td>\n",
       "    </tr>\n",
       "    <tr>\n",
       "      <th>...</th>\n",
       "      <td>...</td>\n",
       "      <td>...</td>\n",
       "      <td>...</td>\n",
       "      <td>...</td>\n",
       "    </tr>\n",
       "    <tr>\n",
       "      <th>21829</th>\n",
       "      <td>24096</td>\n",
       "      <td>Dovetail Games</td>\n",
       "      <td>2010</td>\n",
       "      <td>12.99</td>\n",
       "    </tr>\n",
       "    <tr>\n",
       "      <th>21855</th>\n",
       "      <td>24095</td>\n",
       "      <td>Dovetail Games</td>\n",
       "      <td>2013</td>\n",
       "      <td>8.99</td>\n",
       "    </tr>\n",
       "    <tr>\n",
       "      <th>21941</th>\n",
       "      <td>24070</td>\n",
       "      <td>Dovetail Games</td>\n",
       "      <td>2010</td>\n",
       "      <td>8.99</td>\n",
       "    </tr>\n",
       "    <tr>\n",
       "      <th>22116</th>\n",
       "      <td>24012</td>\n",
       "      <td>Dovetail Games</td>\n",
       "      <td>2009</td>\n",
       "      <td>7.99</td>\n",
       "    </tr>\n",
       "    <tr>\n",
       "      <th>22251</th>\n",
       "      <td>256570</td>\n",
       "      <td>Dovetail Games</td>\n",
       "      <td>2009</td>\n",
       "      <td>4.99</td>\n",
       "    </tr>\n",
       "  </tbody>\n",
       "</table>\n",
       "<p>253 rows × 4 columns</p>\n",
       "</div>"
      ],
      "text/plain": [
       "       item_id       developer  release_year  price\n",
       "169     256611  Dovetail Games          2009   4.99\n",
       "170     256576  Dovetail Games          2009   4.99\n",
       "271     208306  Dovetail Games          2009  17.99\n",
       "273     208300  Dovetail Games          2009  19.99\n",
       "404      24075  Dovetail Games          2010   4.99\n",
       "...        ...             ...           ...    ...\n",
       "21829    24096  Dovetail Games          2010  12.99\n",
       "21855    24095  Dovetail Games          2013   8.99\n",
       "21941    24070  Dovetail Games          2010   8.99\n",
       "22116    24012  Dovetail Games          2009   7.99\n",
       "22251   256570  Dovetail Games          2009   4.99\n",
       "\n",
       "[253 rows x 4 columns]"
      ]
     },
     "execution_count": 253,
     "metadata": {},
     "output_type": "execute_result"
    }
   ],
   "source": [
    "# Filter the developer DataFrame by the given developer name\n",
    "developer_name = 'Dovetail Games'\n",
    "developer_df = df_developer[df_developer['developer'] == developer_name]\n",
    "developer_df"
   ]
  },
  {
   "cell_type": "code",
   "execution_count": 254,
   "metadata": {},
   "outputs": [],
   "source": [
    "# Group the filtered DataFrame by release year and count the number of items per year\n",
    "year_counts = developer_df.groupby('release_year')['item_id'].count().reset_index()\n",
    "year_counts.columns = ['Year', 'Games Quantity']"
   ]
  },
  {
   "cell_type": "code",
   "execution_count": 255,
   "metadata": {},
   "outputs": [
    {
     "data": {
      "text/html": [
       "<div>\n",
       "<style scoped>\n",
       "    .dataframe tbody tr th:only-of-type {\n",
       "        vertical-align: middle;\n",
       "    }\n",
       "\n",
       "    .dataframe tbody tr th {\n",
       "        vertical-align: top;\n",
       "    }\n",
       "\n",
       "    .dataframe thead th {\n",
       "        text-align: right;\n",
       "    }\n",
       "</style>\n",
       "<table border=\"1\" class=\"dataframe\">\n",
       "  <thead>\n",
       "    <tr style=\"text-align: right;\">\n",
       "      <th></th>\n",
       "      <th>Year</th>\n",
       "      <th>Games Quantity</th>\n",
       "    </tr>\n",
       "  </thead>\n",
       "  <tbody>\n",
       "    <tr>\n",
       "      <th>0</th>\n",
       "      <td>2009</td>\n",
       "      <td>22</td>\n",
       "    </tr>\n",
       "    <tr>\n",
       "      <th>1</th>\n",
       "      <td>2010</td>\n",
       "      <td>4</td>\n",
       "    </tr>\n",
       "    <tr>\n",
       "      <th>2</th>\n",
       "      <td>2011</td>\n",
       "      <td>4</td>\n",
       "    </tr>\n",
       "    <tr>\n",
       "      <th>3</th>\n",
       "      <td>2012</td>\n",
       "      <td>52</td>\n",
       "    </tr>\n",
       "    <tr>\n",
       "      <th>4</th>\n",
       "      <td>2013</td>\n",
       "      <td>39</td>\n",
       "    </tr>\n",
       "    <tr>\n",
       "      <th>5</th>\n",
       "      <td>2014</td>\n",
       "      <td>37</td>\n",
       "    </tr>\n",
       "    <tr>\n",
       "      <th>6</th>\n",
       "      <td>2015</td>\n",
       "      <td>50</td>\n",
       "    </tr>\n",
       "    <tr>\n",
       "      <th>7</th>\n",
       "      <td>2016</td>\n",
       "      <td>21</td>\n",
       "    </tr>\n",
       "    <tr>\n",
       "      <th>8</th>\n",
       "      <td>2017</td>\n",
       "      <td>24</td>\n",
       "    </tr>\n",
       "  </tbody>\n",
       "</table>\n",
       "</div>"
      ],
      "text/plain": [
       "   Year  Games Quantity\n",
       "0  2009              22\n",
       "1  2010               4\n",
       "2  2011               4\n",
       "3  2012              52\n",
       "4  2013              39\n",
       "5  2014              37\n",
       "6  2015              50\n",
       "7  2016              21\n",
       "8  2017              24"
      ]
     },
     "execution_count": 255,
     "metadata": {},
     "output_type": "execute_result"
    }
   ],
   "source": [
    "year_counts"
   ]
  },
  {
   "cell_type": "code",
   "execution_count": 256,
   "metadata": {},
   "outputs": [
    {
     "data": {
      "text/plain": [
       "253"
      ]
     },
     "execution_count": 256,
     "metadata": {},
     "output_type": "execute_result"
    }
   ],
   "source": [
    "# Calculate the total number of items developed by the developer\n",
    "total_items = year_counts['Games Quantity'].sum()\n",
    "total_items"
   ]
  },
  {
   "cell_type": "code",
   "execution_count": 257,
   "metadata": {},
   "outputs": [
    {
     "data": {
      "text/html": [
       "<div>\n",
       "<style scoped>\n",
       "    .dataframe tbody tr th:only-of-type {\n",
       "        vertical-align: middle;\n",
       "    }\n",
       "\n",
       "    .dataframe tbody tr th {\n",
       "        vertical-align: top;\n",
       "    }\n",
       "\n",
       "    .dataframe thead th {\n",
       "        text-align: right;\n",
       "    }\n",
       "</style>\n",
       "<table border=\"1\" class=\"dataframe\">\n",
       "  <thead>\n",
       "    <tr style=\"text-align: right;\">\n",
       "      <th></th>\n",
       "      <th>Year</th>\n",
       "      <th>Free Items</th>\n",
       "    </tr>\n",
       "  </thead>\n",
       "  <tbody>\n",
       "    <tr>\n",
       "      <th>0</th>\n",
       "      <td>2017</td>\n",
       "      <td>1</td>\n",
       "    </tr>\n",
       "  </tbody>\n",
       "</table>\n",
       "</div>"
      ],
      "text/plain": [
       "   Year  Free Items\n",
       "0  2017           1"
      ]
     },
     "execution_count": 257,
     "metadata": {},
     "output_type": "execute_result"
    }
   ],
   "source": [
    "# Calculate the number of free items (price equals zero) per year\n",
    "free_items = developer_df[developer_df['price'] == 0].groupby('release_year')['item_id'].count().reset_index()\n",
    "free_items.columns = ['Year', 'Free Items']\n",
    "free_items"
   ]
  },
  {
   "cell_type": "code",
   "execution_count": 258,
   "metadata": {},
   "outputs": [
    {
     "data": {
      "text/html": [
       "<div>\n",
       "<style scoped>\n",
       "    .dataframe tbody tr th:only-of-type {\n",
       "        vertical-align: middle;\n",
       "    }\n",
       "\n",
       "    .dataframe tbody tr th {\n",
       "        vertical-align: top;\n",
       "    }\n",
       "\n",
       "    .dataframe thead th {\n",
       "        text-align: right;\n",
       "    }\n",
       "</style>\n",
       "<table border=\"1\" class=\"dataframe\">\n",
       "  <thead>\n",
       "    <tr style=\"text-align: right;\">\n",
       "      <th></th>\n",
       "      <th>Year</th>\n",
       "      <th>Games Quantity</th>\n",
       "      <th>Free Items</th>\n",
       "    </tr>\n",
       "  </thead>\n",
       "  <tbody>\n",
       "    <tr>\n",
       "      <th>0</th>\n",
       "      <td>2009</td>\n",
       "      <td>22</td>\n",
       "      <td>NaN</td>\n",
       "    </tr>\n",
       "    <tr>\n",
       "      <th>1</th>\n",
       "      <td>2010</td>\n",
       "      <td>4</td>\n",
       "      <td>NaN</td>\n",
       "    </tr>\n",
       "    <tr>\n",
       "      <th>2</th>\n",
       "      <td>2011</td>\n",
       "      <td>4</td>\n",
       "      <td>NaN</td>\n",
       "    </tr>\n",
       "    <tr>\n",
       "      <th>3</th>\n",
       "      <td>2012</td>\n",
       "      <td>52</td>\n",
       "      <td>NaN</td>\n",
       "    </tr>\n",
       "    <tr>\n",
       "      <th>4</th>\n",
       "      <td>2013</td>\n",
       "      <td>39</td>\n",
       "      <td>NaN</td>\n",
       "    </tr>\n",
       "    <tr>\n",
       "      <th>5</th>\n",
       "      <td>2014</td>\n",
       "      <td>37</td>\n",
       "      <td>NaN</td>\n",
       "    </tr>\n",
       "    <tr>\n",
       "      <th>6</th>\n",
       "      <td>2015</td>\n",
       "      <td>50</td>\n",
       "      <td>NaN</td>\n",
       "    </tr>\n",
       "    <tr>\n",
       "      <th>7</th>\n",
       "      <td>2016</td>\n",
       "      <td>21</td>\n",
       "      <td>NaN</td>\n",
       "    </tr>\n",
       "    <tr>\n",
       "      <th>8</th>\n",
       "      <td>2017</td>\n",
       "      <td>24</td>\n",
       "      <td>1.0</td>\n",
       "    </tr>\n",
       "  </tbody>\n",
       "</table>\n",
       "</div>"
      ],
      "text/plain": [
       "   Year  Games Quantity  Free Items\n",
       "0  2009              22         NaN\n",
       "1  2010               4         NaN\n",
       "2  2011               4         NaN\n",
       "3  2012              52         NaN\n",
       "4  2013              39         NaN\n",
       "5  2014              37         NaN\n",
       "6  2015              50         NaN\n",
       "7  2016              21         NaN\n",
       "8  2017              24         1.0"
      ]
     },
     "execution_count": 258,
     "metadata": {},
     "output_type": "execute_result"
    }
   ],
   "source": [
    "# Merge the two DataFrames on release year\n",
    "summary_df = pd.merge(year_counts, free_items, on='Year', how='left')\n",
    "summary_df"
   ]
  },
  {
   "cell_type": "code",
   "execution_count": 259,
   "metadata": {},
   "outputs": [
    {
     "data": {
      "text/plain": [
       "0         NaN\n",
       "1         NaN\n",
       "2         NaN\n",
       "3         NaN\n",
       "4         NaN\n",
       "5         NaN\n",
       "6         NaN\n",
       "7         NaN\n",
       "8    4.166667\n",
       "Name: Free Content (%), dtype: float64"
      ]
     },
     "execution_count": 259,
     "metadata": {},
     "output_type": "execute_result"
    }
   ],
   "source": [
    "# Calculate the percentage of free items for each year\n",
    "summary_df['Free Content (%)'] = (summary_df['Free Items'] / summary_df['Games Quantity']) * 100\n",
    "summary_df['Free Content (%)']"
   ]
  },
  {
   "cell_type": "code",
   "execution_count": 260,
   "metadata": {},
   "outputs": [
    {
     "data": {
      "text/plain": [
       "0    0.000000\n",
       "1    0.000000\n",
       "2    0.000000\n",
       "3    0.000000\n",
       "4    0.000000\n",
       "5    0.000000\n",
       "6    0.000000\n",
       "7    0.000000\n",
       "8    4.166667\n",
       "Name: Free Content (%), dtype: float64"
      ]
     },
     "execution_count": 260,
     "metadata": {},
     "output_type": "execute_result"
    }
   ],
   "source": [
    "# Fill missing values (years with no free items) with zero\n",
    "summary_df['Free Items'] = summary_df['Free Items'].fillna(0)\n",
    "summary_df['Free Content (%)'] = summary_df['Free Content (%)'].fillna(0)\n",
    "summary_df['Free Content (%)']"
   ]
  },
  {
   "cell_type": "code",
   "execution_count": 261,
   "metadata": {},
   "outputs": [
    {
     "data": {
      "text/html": [
       "<div>\n",
       "<style scoped>\n",
       "    .dataframe tbody tr th:only-of-type {\n",
       "        vertical-align: middle;\n",
       "    }\n",
       "\n",
       "    .dataframe tbody tr th {\n",
       "        vertical-align: top;\n",
       "    }\n",
       "\n",
       "    .dataframe thead th {\n",
       "        text-align: right;\n",
       "    }\n",
       "</style>\n",
       "<table border=\"1\" class=\"dataframe\">\n",
       "  <thead>\n",
       "    <tr style=\"text-align: right;\">\n",
       "      <th></th>\n",
       "      <th>Year</th>\n",
       "      <th>Games Quantity</th>\n",
       "      <th>Free Items</th>\n",
       "      <th>Free Content (%)</th>\n",
       "    </tr>\n",
       "  </thead>\n",
       "  <tbody>\n",
       "    <tr>\n",
       "      <th>0</th>\n",
       "      <td>2009</td>\n",
       "      <td>22</td>\n",
       "      <td>0.0</td>\n",
       "      <td>0.000000</td>\n",
       "    </tr>\n",
       "    <tr>\n",
       "      <th>1</th>\n",
       "      <td>2010</td>\n",
       "      <td>4</td>\n",
       "      <td>0.0</td>\n",
       "      <td>0.000000</td>\n",
       "    </tr>\n",
       "    <tr>\n",
       "      <th>2</th>\n",
       "      <td>2011</td>\n",
       "      <td>4</td>\n",
       "      <td>0.0</td>\n",
       "      <td>0.000000</td>\n",
       "    </tr>\n",
       "    <tr>\n",
       "      <th>3</th>\n",
       "      <td>2012</td>\n",
       "      <td>52</td>\n",
       "      <td>0.0</td>\n",
       "      <td>0.000000</td>\n",
       "    </tr>\n",
       "    <tr>\n",
       "      <th>4</th>\n",
       "      <td>2013</td>\n",
       "      <td>39</td>\n",
       "      <td>0.0</td>\n",
       "      <td>0.000000</td>\n",
       "    </tr>\n",
       "    <tr>\n",
       "      <th>5</th>\n",
       "      <td>2014</td>\n",
       "      <td>37</td>\n",
       "      <td>0.0</td>\n",
       "      <td>0.000000</td>\n",
       "    </tr>\n",
       "    <tr>\n",
       "      <th>6</th>\n",
       "      <td>2015</td>\n",
       "      <td>50</td>\n",
       "      <td>0.0</td>\n",
       "      <td>0.000000</td>\n",
       "    </tr>\n",
       "    <tr>\n",
       "      <th>7</th>\n",
       "      <td>2016</td>\n",
       "      <td>21</td>\n",
       "      <td>0.0</td>\n",
       "      <td>0.000000</td>\n",
       "    </tr>\n",
       "    <tr>\n",
       "      <th>8</th>\n",
       "      <td>2017</td>\n",
       "      <td>24</td>\n",
       "      <td>1.0</td>\n",
       "      <td>4.166667</td>\n",
       "    </tr>\n",
       "  </tbody>\n",
       "</table>\n",
       "</div>"
      ],
      "text/plain": [
       "   Year  Games Quantity  Free Items  Free Content (%)\n",
       "0  2009              22         0.0          0.000000\n",
       "1  2010               4         0.0          0.000000\n",
       "2  2011               4         0.0          0.000000\n",
       "3  2012              52         0.0          0.000000\n",
       "4  2013              39         0.0          0.000000\n",
       "5  2014              37         0.0          0.000000\n",
       "6  2015              50         0.0          0.000000\n",
       "7  2016              21         0.0          0.000000\n",
       "8  2017              24         1.0          4.166667"
      ]
     },
     "execution_count": 261,
     "metadata": {},
     "output_type": "execute_result"
    }
   ],
   "source": [
    "summary_df"
   ]
  },
  {
   "cell_type": "code",
   "execution_count": 262,
   "metadata": {},
   "outputs": [
    {
     "data": {
      "text/plain": [
       "array(['Kotoshiro', 'Secret Level SRL', 'Poolians.com', ...,\n",
       "       'Oscar Ortigueira López,OrtiGames/OrtiSoft', 'INGAME',\n",
       "       'Bidoniera Games'], dtype=object)"
      ]
     },
     "execution_count": 262,
     "metadata": {},
     "output_type": "execute_result"
    }
   ],
   "source": [
    "developers_ok = df_games['developer'].unique()\n",
    "developers_ok"
   ]
  },
  {
   "cell_type": "code",
   "execution_count": 263,
   "metadata": {},
   "outputs": [
    {
     "data": {
      "text/plain": [
       "10275"
      ]
     },
     "execution_count": 263,
     "metadata": {},
     "output_type": "execute_result"
    }
   ],
   "source": [
    "len(developers_ok)"
   ]
  },
  {
   "cell_type": "code",
   "execution_count": 264,
   "metadata": {},
   "outputs": [],
   "source": [
    "df_developer = df_games.copy()"
   ]
  },
  {
   "cell_type": "markdown",
   "metadata": {},
   "source": [
    "### Now we put all this into a Function<br>"
   ]
  },
  {
   "cell_type": "code",
   "execution_count": 64,
   "metadata": {},
   "outputs": [],
   "source": [
    "from fastapi import HTTPException\n",
    "\n",
    "def developer(developer_name):\n",
    "    # Create a copy of df_games\n",
    "    df_developer = pd.read_parquet('data/developers.parquet')\n",
    "\n",
    "    # Check if the provided developer_name exists in the DataFrame\n",
    "    if developer_name not in df_developer['developer'].unique():\n",
    "        print(f\"Developer {developer_name} not found.\")\n",
    "\n",
    "    else:    # Drop unnecessary columns\n",
    "        # Filter the developer DataFrame by the given developer name\n",
    "        developer_df = df_developer[df_developer['developer'] == developer_name]\n",
    "        \n",
    "        # Group the filtered DataFrame by release year and count the number of items per year\n",
    "        year_counts = developer_df.groupby('release_year')['item_id'].count().reset_index()\n",
    "        year_counts.columns = ['Year', 'Games Quantity']\n",
    "        \n",
    "        # Calculate the total number of items developed by the developer\n",
    "        total_items = year_counts['Games Quantity'].sum()\n",
    "        \n",
    "        # Calculate the number of free items (price equals zero) per year\n",
    "        free_items = developer_df[developer_df['price'] == 0].groupby('release_year')['item_id'].count().reset_index()\n",
    "        free_items.columns = ['Year', 'Free Items']\n",
    "        \n",
    "        # Merge the two DataFrames on release year\n",
    "        summary_df = pd.merge(year_counts, free_items, on='Year', how='left')\n",
    "        \n",
    "        # Calculate the percentage of free items for each year\n",
    "        summary_df['Free Content (%)'] = (summary_df['Free Items'] / summary_df['Games Quantity']) * 100\n",
    "        \n",
    "        # Fill missing values (years with no free items) with zero\n",
    "        summary_df['Free Items'] = summary_df['Free Items'].fillna(0)\n",
    "        summary_df['Free Content (%)'] = summary_df['Free Content (%)'].fillna(0)\n",
    "        \n",
    "        return summary_df"
   ]
  },
  {
   "cell_type": "code",
   "execution_count": 65,
   "metadata": {},
   "outputs": [
    {
     "ename": "UnboundLocalError",
     "evalue": "cannot access local variable 'df_developer' where it is not associated with a value",
     "output_type": "error",
     "traceback": [
      "\u001b[1;31m---------------------------------------------------------------------------\u001b[0m",
      "\u001b[1;31mUnboundLocalError\u001b[0m                         Traceback (most recent call last)",
      "Cell \u001b[1;32mIn[65], line 1\u001b[0m\n\u001b[1;32m----> 1\u001b[0m \u001b[43mdeveloper\u001b[49m\u001b[43m(\u001b[49m\u001b[38;5;124;43m'\u001b[39;49m\u001b[38;5;124;43mshiro\u001b[39;49m\u001b[38;5;124;43m'\u001b[39;49m\u001b[43m)\u001b[49m\n",
      "Cell \u001b[1;32mIn[64], line 5\u001b[0m, in \u001b[0;36mdeveloper\u001b[1;34m(developer_name)\u001b[0m\n\u001b[0;32m      3\u001b[0m \u001b[38;5;28;01mdef\u001b[39;00m \u001b[38;5;21mdeveloper\u001b[39m(developer_name):\n\u001b[0;32m      4\u001b[0m     \u001b[38;5;66;03m# Create a copy of df_games\u001b[39;00m\n\u001b[1;32m----> 5\u001b[0m     df_developer \u001b[38;5;241m=\u001b[39m \u001b[43mdf_developer\u001b[49m\n\u001b[0;32m      7\u001b[0m     \u001b[38;5;66;03m# Check if the provided developer_name exists in the DataFrame\u001b[39;00m\n\u001b[0;32m      8\u001b[0m     \u001b[38;5;28;01mif\u001b[39;00m developer_name \u001b[38;5;129;01mnot\u001b[39;00m \u001b[38;5;129;01min\u001b[39;00m df_developer[\u001b[38;5;124m'\u001b[39m\u001b[38;5;124mdeveloper\u001b[39m\u001b[38;5;124m'\u001b[39m]\u001b[38;5;241m.\u001b[39munique():\n",
      "\u001b[1;31mUnboundLocalError\u001b[0m: cannot access local variable 'df_developer' where it is not associated with a value"
     ]
    }
   ],
   "source": [
    "developer('shiro')"
   ]
  },
  {
   "cell_type": "code",
   "execution_count": 159,
   "metadata": {},
   "outputs": [
    {
     "data": {
      "text/html": [
       "<div>\n",
       "<style scoped>\n",
       "    .dataframe tbody tr th:only-of-type {\n",
       "        vertical-align: middle;\n",
       "    }\n",
       "\n",
       "    .dataframe tbody tr th {\n",
       "        vertical-align: top;\n",
       "    }\n",
       "\n",
       "    .dataframe thead th {\n",
       "        text-align: right;\n",
       "    }\n",
       "</style>\n",
       "<table border=\"1\" class=\"dataframe\">\n",
       "  <thead>\n",
       "    <tr style=\"text-align: right;\">\n",
       "      <th></th>\n",
       "      <th>Year</th>\n",
       "      <th>Games Quantity</th>\n",
       "      <th>Free Items</th>\n",
       "      <th>Free Content (%)</th>\n",
       "    </tr>\n",
       "  </thead>\n",
       "  <tbody>\n",
       "    <tr>\n",
       "      <th>0</th>\n",
       "      <td>2018</td>\n",
       "      <td>1</td>\n",
       "      <td>0.0</td>\n",
       "      <td>0.0</td>\n",
       "    </tr>\n",
       "  </tbody>\n",
       "</table>\n",
       "</div>"
      ],
      "text/plain": [
       "   Year  Games Quantity  Free Items  Free Content (%)\n",
       "0  2018               1         0.0               0.0"
      ]
     },
     "execution_count": 159,
     "metadata": {},
     "output_type": "execute_result"
    }
   ],
   "source": [
    "developer('Kotoshiro')"
   ]
  },
  {
   "cell_type": "markdown",
   "metadata": {},
   "source": [
    "## 3.2.2 **User_data**: how much money has the user spent, what percentage, from the total number of games the user owns, has the user recommended from the reviews.recommend and how many games he purchased.<br>"
   ]
  },
  {
   "cell_type": "code",
   "execution_count": 91,
   "metadata": {},
   "outputs": [],
   "source": [
    "# 3.2.2 **User_data**: how much money has the user spent, what percentage, from the total number of games the user owns, \n",
    "# has the user recommended from the reviews.recommend and how many games he purchased.<br>\n",
    "df_user_items = df_items.copy()\n",
    "df_user_items.drop(['item_name','playtime_forever','playtime_2weeks'],axis=1, inplace= True)"
   ]
  },
  {
   "cell_type": "markdown",
   "metadata": {},
   "source": [
    "#### We are going to complete the user_items df with price from games"
   ]
  },
  {
   "cell_type": "code",
   "execution_count": 92,
   "metadata": {},
   "outputs": [
    {
     "data": {
      "text/html": [
       "<div>\n",
       "<style scoped>\n",
       "    .dataframe tbody tr th:only-of-type {\n",
       "        vertical-align: middle;\n",
       "    }\n",
       "\n",
       "    .dataframe tbody tr th {\n",
       "        vertical-align: top;\n",
       "    }\n",
       "\n",
       "    .dataframe thead th {\n",
       "        text-align: right;\n",
       "    }\n",
       "</style>\n",
       "<table border=\"1\" class=\"dataframe\">\n",
       "  <thead>\n",
       "    <tr style=\"text-align: right;\">\n",
       "      <th></th>\n",
       "      <th>user_id</th>\n",
       "      <th>item_id</th>\n",
       "      <th>price</th>\n",
       "    </tr>\n",
       "  </thead>\n",
       "  <tbody>\n",
       "    <tr>\n",
       "      <th>0</th>\n",
       "      <td>76561197970982479</td>\n",
       "      <td>10</td>\n",
       "      <td>9.99</td>\n",
       "    </tr>\n",
       "    <tr>\n",
       "      <th>1</th>\n",
       "      <td>76561197970982479</td>\n",
       "      <td>20</td>\n",
       "      <td>4.99</td>\n",
       "    </tr>\n",
       "  </tbody>\n",
       "</table>\n",
       "</div>"
      ],
      "text/plain": [
       "             user_id  item_id  price\n",
       "0  76561197970982479       10   9.99\n",
       "1  76561197970982479       20   4.99"
      ]
     },
     "execution_count": 92,
     "metadata": {},
     "output_type": "execute_result"
    }
   ],
   "source": [
    "df_user_items = df_user_items.merge(df_games[['item_id', 'price']], on='item_id', how='left')\n",
    "df_user_items.head(2)"
   ]
  },
  {
   "cell_type": "markdown",
   "metadata": {},
   "source": [
    "### Now we merge the df_reviews with user_items to create a new column recommend"
   ]
  },
  {
   "cell_type": "code",
   "execution_count": 93,
   "metadata": {},
   "outputs": [],
   "source": [
    "df_user_items = df_user_items.merge(df_reviews[['user_id', 'item_id', 'recommend']], on=['user_id', 'item_id'], how='left')"
   ]
  },
  {
   "cell_type": "code",
   "execution_count": 94,
   "metadata": {},
   "outputs": [
    {
     "data": {
      "text/plain": [
       "Index(['user_id', 'item_id', 'price', 'recommend'], dtype='object')"
      ]
     },
     "execution_count": 94,
     "metadata": {},
     "output_type": "execute_result"
    }
   ],
   "source": [
    "df_user_items.columns"
   ]
  },
  {
   "cell_type": "markdown",
   "metadata": {},
   "source": [
    "### Now that we have our dataframe, we work on our Function"
   ]
  },
  {
   "cell_type": "code",
   "execution_count": 164,
   "metadata": {},
   "outputs": [],
   "source": [
    "user_id = 'maplemage'"
   ]
  },
  {
   "cell_type": "code",
   "execution_count": 165,
   "metadata": {},
   "outputs": [
    {
     "data": {
      "text/html": [
       "<div>\n",
       "<style scoped>\n",
       "    .dataframe tbody tr th:only-of-type {\n",
       "        vertical-align: middle;\n",
       "    }\n",
       "\n",
       "    .dataframe tbody tr th {\n",
       "        vertical-align: top;\n",
       "    }\n",
       "\n",
       "    .dataframe thead th {\n",
       "        text-align: right;\n",
       "    }\n",
       "</style>\n",
       "<table border=\"1\" class=\"dataframe\">\n",
       "  <thead>\n",
       "    <tr style=\"text-align: right;\">\n",
       "      <th></th>\n",
       "      <th>user_id</th>\n",
       "      <th>item_id</th>\n",
       "      <th>price</th>\n",
       "      <th>recommend</th>\n",
       "    </tr>\n",
       "  </thead>\n",
       "  <tbody>\n",
       "    <tr>\n",
       "      <th>3104</th>\n",
       "      <td>maplemage</td>\n",
       "      <td>240</td>\n",
       "      <td>19.99</td>\n",
       "      <td>NaN</td>\n",
       "    </tr>\n",
       "    <tr>\n",
       "      <th>3105</th>\n",
       "      <td>maplemage</td>\n",
       "      <td>300</td>\n",
       "      <td>9.99</td>\n",
       "      <td>NaN</td>\n",
       "    </tr>\n",
       "    <tr>\n",
       "      <th>3106</th>\n",
       "      <td>maplemage</td>\n",
       "      <td>320</td>\n",
       "      <td>4.99</td>\n",
       "      <td>NaN</td>\n",
       "    </tr>\n",
       "    <tr>\n",
       "      <th>3107</th>\n",
       "      <td>maplemage</td>\n",
       "      <td>340</td>\n",
       "      <td>NaN</td>\n",
       "      <td>NaN</td>\n",
       "    </tr>\n",
       "    <tr>\n",
       "      <th>3108</th>\n",
       "      <td>maplemage</td>\n",
       "      <td>1200</td>\n",
       "      <td>9.99</td>\n",
       "      <td>NaN</td>\n",
       "    </tr>\n",
       "    <tr>\n",
       "      <th>...</th>\n",
       "      <td>...</td>\n",
       "      <td>...</td>\n",
       "      <td>...</td>\n",
       "      <td>...</td>\n",
       "    </tr>\n",
       "    <tr>\n",
       "      <th>3728</th>\n",
       "      <td>maplemage</td>\n",
       "      <td>207140</td>\n",
       "      <td>14.99</td>\n",
       "      <td>NaN</td>\n",
       "    </tr>\n",
       "    <tr>\n",
       "      <th>3729</th>\n",
       "      <td>maplemage</td>\n",
       "      <td>369200</td>\n",
       "      <td>NaN</td>\n",
       "      <td>NaN</td>\n",
       "    </tr>\n",
       "    <tr>\n",
       "      <th>3730</th>\n",
       "      <td>maplemage</td>\n",
       "      <td>485890</td>\n",
       "      <td>0.99</td>\n",
       "      <td>NaN</td>\n",
       "    </tr>\n",
       "    <tr>\n",
       "      <th>3731</th>\n",
       "      <td>maplemage</td>\n",
       "      <td>214850</td>\n",
       "      <td>NaN</td>\n",
       "      <td>NaN</td>\n",
       "    </tr>\n",
       "    <tr>\n",
       "      <th>3732</th>\n",
       "      <td>maplemage</td>\n",
       "      <td>443080</td>\n",
       "      <td>NaN</td>\n",
       "      <td>NaN</td>\n",
       "    </tr>\n",
       "  </tbody>\n",
       "</table>\n",
       "<p>629 rows × 4 columns</p>\n",
       "</div>"
      ],
      "text/plain": [
       "        user_id  item_id  price recommend\n",
       "3104  maplemage      240  19.99       NaN\n",
       "3105  maplemage      300   9.99       NaN\n",
       "3106  maplemage      320   4.99       NaN\n",
       "3107  maplemage      340    NaN       NaN\n",
       "3108  maplemage     1200   9.99       NaN\n",
       "...         ...      ...    ...       ...\n",
       "3728  maplemage   207140  14.99       NaN\n",
       "3729  maplemage   369200    NaN       NaN\n",
       "3730  maplemage   485890   0.99       NaN\n",
       "3731  maplemage   214850    NaN       NaN\n",
       "3732  maplemage   443080    NaN       NaN\n",
       "\n",
       "[629 rows x 4 columns]"
      ]
     },
     "execution_count": 165,
     "metadata": {},
     "output_type": "execute_result"
    }
   ],
   "source": [
    "# Filter user items by user_id\n",
    "df_user_id_items = df_user_items[df_user_items['user_id'] == user_id]\n",
    "df_user_id_items"
   ]
  },
  {
   "cell_type": "code",
   "execution_count": 166,
   "metadata": {},
   "outputs": [
    {
     "data": {
      "text/plain": [
       "7078.42"
      ]
     },
     "execution_count": 166,
     "metadata": {},
     "output_type": "execute_result"
    }
   ],
   "source": [
    "# Calculate total money spent\n",
    "money_spent = df_user_id_items['price'].sum()\n",
    "money_spent"
   ]
  },
  {
   "cell_type": "code",
   "execution_count": 167,
   "metadata": {},
   "outputs": [
    {
     "data": {
      "text/plain": [
       "0.64"
      ]
     },
     "execution_count": 167,
     "metadata": {},
     "output_type": "execute_result"
    }
   ],
   "source": [
    "# Calculate recommend percentage\n",
    "recommend_percentage = round((df_user_id_items['recommend'].sum() / len(df_user_id_items)),4) * 100\n",
    "recommend_percentage"
   ]
  },
  {
   "cell_type": "code",
   "execution_count": 168,
   "metadata": {},
   "outputs": [
    {
     "data": {
      "text/plain": [
       "629"
      ]
     },
     "execution_count": 168,
     "metadata": {},
     "output_type": "execute_result"
    }
   ],
   "source": [
    "# Calculate game quantity\n",
    "game_quantity = len(df_user_id_items)\n",
    "game_quantity"
   ]
  },
  {
   "cell_type": "code",
   "execution_count": 169,
   "metadata": {},
   "outputs": [
    {
     "data": {
      "text/plain": [
       "{'User_Id': 'maplemage',\n",
       " 'Money Spent': '7078.42 USD',\n",
       " 'Recommend Percentage': '0.64%',\n",
       " 'Game Quantity': 629}"
      ]
     },
     "execution_count": 169,
     "metadata": {},
     "output_type": "execute_result"
    }
   ],
   "source": [
    "result = {\n",
    "    'User_Id': f'{user_id}',\n",
    "    'Money Spent': f'{money_spent:.2f} USD',\n",
    "    'Recommend Percentage': f'{recommend_percentage:.2f}%',\n",
    "    'Game Quantity': game_quantity}\n",
    "result"
   ]
  },
  {
   "cell_type": "code",
   "execution_count": 115,
   "metadata": {},
   "outputs": [
    {
     "data": {
      "text/html": [
       "<div>\n",
       "<style scoped>\n",
       "    .dataframe tbody tr th:only-of-type {\n",
       "        vertical-align: middle;\n",
       "    }\n",
       "\n",
       "    .dataframe tbody tr th {\n",
       "        vertical-align: top;\n",
       "    }\n",
       "\n",
       "    .dataframe thead th {\n",
       "        text-align: right;\n",
       "    }\n",
       "</style>\n",
       "<table border=\"1\" class=\"dataframe\">\n",
       "  <thead>\n",
       "    <tr style=\"text-align: right;\">\n",
       "      <th></th>\n",
       "      <th>user_id</th>\n",
       "      <th>item_id</th>\n",
       "    </tr>\n",
       "  </thead>\n",
       "  <tbody>\n",
       "    <tr>\n",
       "      <th>0</th>\n",
       "      <td>76561197970982479</td>\n",
       "      <td>10</td>\n",
       "    </tr>\n",
       "    <tr>\n",
       "      <th>1</th>\n",
       "      <td>76561197970982479</td>\n",
       "      <td>20</td>\n",
       "    </tr>\n",
       "    <tr>\n",
       "      <th>2</th>\n",
       "      <td>76561197970982479</td>\n",
       "      <td>30</td>\n",
       "    </tr>\n",
       "    <tr>\n",
       "      <th>3</th>\n",
       "      <td>76561197970982479</td>\n",
       "      <td>40</td>\n",
       "    </tr>\n",
       "    <tr>\n",
       "      <th>4</th>\n",
       "      <td>76561197970982479</td>\n",
       "      <td>50</td>\n",
       "    </tr>\n",
       "    <tr>\n",
       "      <th>...</th>\n",
       "      <td>...</td>\n",
       "      <td>...</td>\n",
       "    </tr>\n",
       "    <tr>\n",
       "      <th>5094077</th>\n",
       "      <td>76561198329548331</td>\n",
       "      <td>346330</td>\n",
       "    </tr>\n",
       "    <tr>\n",
       "      <th>5094078</th>\n",
       "      <td>76561198329548331</td>\n",
       "      <td>373330</td>\n",
       "    </tr>\n",
       "    <tr>\n",
       "      <th>5094079</th>\n",
       "      <td>76561198329548331</td>\n",
       "      <td>388490</td>\n",
       "    </tr>\n",
       "    <tr>\n",
       "      <th>5094080</th>\n",
       "      <td>76561198329548331</td>\n",
       "      <td>521570</td>\n",
       "    </tr>\n",
       "    <tr>\n",
       "      <th>5094081</th>\n",
       "      <td>76561198329548331</td>\n",
       "      <td>519140</td>\n",
       "    </tr>\n",
       "  </tbody>\n",
       "</table>\n",
       "<p>5094082 rows × 2 columns</p>\n",
       "</div>"
      ],
      "text/plain": [
       "                   user_id  item_id\n",
       "0        76561197970982479       10\n",
       "1        76561197970982479       20\n",
       "2        76561197970982479       30\n",
       "3        76561197970982479       40\n",
       "4        76561197970982479       50\n",
       "...                    ...      ...\n",
       "5094077  76561198329548331   346330\n",
       "5094078  76561198329548331   373330\n",
       "5094079  76561198329548331   388490\n",
       "5094080  76561198329548331   521570\n",
       "5094081  76561198329548331   519140\n",
       "\n",
       "[5094082 rows x 2 columns]"
      ]
     },
     "execution_count": 115,
     "metadata": {},
     "output_type": "execute_result"
    }
   ],
   "source": [
    "df_items_users = df_items.copy()\n",
    "df_items_users.drop(['item_name','playtime_forever','playtime_2weeks'],axis=1, inplace= True)\n",
    "df_items_users"
   ]
  },
  {
   "cell_type": "code",
   "execution_count": 101,
   "metadata": {},
   "outputs": [
    {
     "data": {
      "text/html": [
       "<div>\n",
       "<style scoped>\n",
       "    .dataframe tbody tr th:only-of-type {\n",
       "        vertical-align: middle;\n",
       "    }\n",
       "\n",
       "    .dataframe tbody tr th {\n",
       "        vertical-align: top;\n",
       "    }\n",
       "\n",
       "    .dataframe thead th {\n",
       "        text-align: right;\n",
       "    }\n",
       "</style>\n",
       "<table border=\"1\" class=\"dataframe\">\n",
       "  <thead>\n",
       "    <tr style=\"text-align: right;\">\n",
       "      <th></th>\n",
       "      <th>user_id</th>\n",
       "      <th>item_id</th>\n",
       "    </tr>\n",
       "  </thead>\n",
       "  <tbody>\n",
       "    <tr>\n",
       "      <th>2547594</th>\n",
       "      <td>76561198070585472</td>\n",
       "      <td>1200</td>\n",
       "    </tr>\n",
       "    <tr>\n",
       "      <th>2547595</th>\n",
       "      <td>76561198070585472</td>\n",
       "      <td>1230</td>\n",
       "    </tr>\n",
       "    <tr>\n",
       "      <th>2547596</th>\n",
       "      <td>76561198070585472</td>\n",
       "      <td>1280</td>\n",
       "    </tr>\n",
       "    <tr>\n",
       "      <th>2547597</th>\n",
       "      <td>76561198070585472</td>\n",
       "      <td>3920</td>\n",
       "    </tr>\n",
       "    <tr>\n",
       "      <th>2547598</th>\n",
       "      <td>76561198070585472</td>\n",
       "      <td>4000</td>\n",
       "    </tr>\n",
       "    <tr>\n",
       "      <th>...</th>\n",
       "      <td>...</td>\n",
       "      <td>...</td>\n",
       "    </tr>\n",
       "    <tr>\n",
       "      <th>2552045</th>\n",
       "      <td>76561198070585472</td>\n",
       "      <td>515910</td>\n",
       "    </tr>\n",
       "    <tr>\n",
       "      <th>2552046</th>\n",
       "      <td>76561198070585472</td>\n",
       "      <td>516230</td>\n",
       "    </tr>\n",
       "    <tr>\n",
       "      <th>2552047</th>\n",
       "      <td>76561198070585472</td>\n",
       "      <td>517790</td>\n",
       "    </tr>\n",
       "    <tr>\n",
       "      <th>2552048</th>\n",
       "      <td>76561198070585472</td>\n",
       "      <td>517810</td>\n",
       "    </tr>\n",
       "    <tr>\n",
       "      <th>2552049</th>\n",
       "      <td>76561198070585472</td>\n",
       "      <td>475550</td>\n",
       "    </tr>\n",
       "  </tbody>\n",
       "</table>\n",
       "<p>4456 rows × 2 columns</p>\n",
       "</div>"
      ],
      "text/plain": [
       "                   user_id  item_id\n",
       "2547594  76561198070585472     1200\n",
       "2547595  76561198070585472     1230\n",
       "2547596  76561198070585472     1280\n",
       "2547597  76561198070585472     3920\n",
       "2547598  76561198070585472     4000\n",
       "...                    ...      ...\n",
       "2552045  76561198070585472   515910\n",
       "2552046  76561198070585472   516230\n",
       "2552047  76561198070585472   517790\n",
       "2552048  76561198070585472   517810\n",
       "2552049  76561198070585472   475550\n",
       "\n",
       "[4456 rows x 2 columns]"
      ]
     },
     "execution_count": 101,
     "metadata": {},
     "output_type": "execute_result"
    }
   ],
   "source": [
    "user_id = '76561198070585472'\n",
    "df_items_users = df_user_items[df_items_users['user_id'] == user_id]\n",
    "df_items_users"
   ]
  },
  {
   "cell_type": "code",
   "execution_count": 123,
   "metadata": {},
   "outputs": [],
   "source": [
    "df_items_users = pd.read_parquet('data/items_users.parquet')\n",
    "\n",
    "def user_data(user_id):\n",
    "    # Filter user items by user_id\n",
    "    df_user_id_items = df_items_users[df_items_users['user_id'] == user_id]\n",
    "\n",
    "    # Merge with df_games to add price\n",
    "    df_user_id_items = df_user_id_items.merge(df_games[['item_id', 'price']], on='item_id', how='left')\n",
    "    df_user_id_items['price'] = df_user_id_items['price'].fillna(0)\n",
    "    \n",
    "    # Merge with df_reviews to add recommend\n",
    "    df_user_id_items = df_user_id_items.merge(df_reviews[['user_id', 'item_id', 'recommend']], on=['user_id', 'item_id'], how='left')\n",
    "    df_user_id_items['recommend'] = df_user_id_items['recommend'].fillna(0)\n",
    "    \n",
    "    # Calculate total money spent\n",
    "    money_spent = df_user_id_items['price'].sum()\n",
    "\n",
    "    # Calculate recommend percentage\n",
    "    recommend_percentage = round((df_user_id_items['recommend'].sum() / len(df_user_id_items)), 4) * 100\n",
    "\n",
    "    # Calculate game quantity\n",
    "    game_quantity = len(df_user_id_items)\n",
    "\n",
    "    result = {\n",
    "        'User_Id': f'{user_id}',\n",
    "        'Money Spent': f'{money_spent:.2f} USD',\n",
    "        'Recommend Percentage': f'{recommend_percentage:.2f}%',\n",
    "        'Game Quantity': game_quantity}\n",
    "    return result"
   ]
  },
  {
   "cell_type": "code",
   "execution_count": 124,
   "metadata": {},
   "outputs": [
    {
     "data": {
      "text/plain": [
       "{'User_Id': '76561198070585472',\n",
       " 'Money Spent': '30969.63 USD',\n",
       " 'Recommend Percentage': '0.13%',\n",
       " 'Game Quantity': 4456}"
      ]
     },
     "execution_count": 124,
     "metadata": {},
     "output_type": "execute_result"
    }
   ],
   "source": [
    "user_data('76561198070585472')"
   ]
  },
  {
   "cell_type": "markdown",
   "metadata": {},
   "source": [
    "### Function user_data\n",
    "We put all this together to create a function  "
   ]
  },
  {
   "cell_type": "code",
   "execution_count": 170,
   "metadata": {},
   "outputs": [],
   "source": [
    "def user_data(user_id):\n",
    "    # Filter user items by user_id\n",
    "    user_id_items = df_user_items[df_user_items['user_id'] == user_id]\n",
    "    \n",
    "    # Calculate total money spent\n",
    "    money_spent = user_id_items['price'].sum()\n",
    "    \n",
    "    # Calculate recommend percentage\n",
    "    recommend_percentage = (user_id_items['recommend'].sum() / len(user_id_items)) * 100\n",
    "    \n",
    "    # Calculate game quantity\n",
    "    game_quantity = len(user_id_items)\n",
    "    \n",
    "    # Create dictionary with summary information\n",
    "    result = {\n",
    "        'User_Id': f'{user_id}',\n",
    "        'Money Spent': f'{money_spent:.2f} USD',\n",
    "        'Recommend Percentage': f'{recommend_percentage:.2f}%',\n",
    "        'Game Quantity': game_quantity\n",
    "    }\n",
    "    \n",
    "    return result"
   ]
  },
  {
   "cell_type": "code",
   "execution_count": 171,
   "metadata": {},
   "outputs": [
    {
     "data": {
      "text/plain": [
       "{'User_Id': '76561197970982479',\n",
       " 'Money Spent': '3364.37 USD',\n",
       " 'Recommend Percentage': '1.08%',\n",
       " 'Game Quantity': 277}"
      ]
     },
     "execution_count": 171,
     "metadata": {},
     "output_type": "execute_result"
    }
   ],
   "source": [
    "user_data('76561197970982479')"
   ]
  },
  {
   "cell_type": "code",
   "execution_count": 172,
   "metadata": {},
   "outputs": [
    {
     "data": {
      "text/plain": [
       "{'User_Id': 'js41637',\n",
       " 'Money Spent': '8252.55 USD',\n",
       " 'Recommend Percentage': '0.34%',\n",
       " 'Game Quantity': 888}"
      ]
     },
     "execution_count": 172,
     "metadata": {},
     "output_type": "execute_result"
    }
   ],
   "source": [
    "user_data('js41637')"
   ]
  },
  {
   "cell_type": "code",
   "execution_count": 291,
   "metadata": {},
   "outputs": [
    {
     "data": {
      "text/plain": [
       "{'User_Id': 'piepai',\n",
       " 'Money Spent': '47347.78 USD',\n",
       " 'Recommend Percentage': '0.02%',\n",
       " 'Game Quantity': 6132}"
      ]
     },
     "execution_count": 291,
     "metadata": {},
     "output_type": "execute_result"
    }
   ],
   "source": [
    "user_data('piepai')"
   ]
  },
  {
   "cell_type": "markdown",
   "metadata": {},
   "source": [
    "## 3.2.3 **User_for_genres**: this function must return the user with more minutes accumulated for the given genres and a list of minutes accumulated per year since the release date<br>"
   ]
  },
  {
   "cell_type": "code",
   "execution_count": 16,
   "metadata": {},
   "outputs": [
    {
     "data": {
      "text/html": [
       "<div>\n",
       "<style scoped>\n",
       "    .dataframe tbody tr th:only-of-type {\n",
       "        vertical-align: middle;\n",
       "    }\n",
       "\n",
       "    .dataframe tbody tr th {\n",
       "        vertical-align: top;\n",
       "    }\n",
       "\n",
       "    .dataframe thead th {\n",
       "        text-align: right;\n",
       "    }\n",
       "</style>\n",
       "<table border=\"1\" class=\"dataframe\">\n",
       "  <thead>\n",
       "    <tr style=\"text-align: right;\">\n",
       "      <th></th>\n",
       "      <th>user_id</th>\n",
       "      <th>item_id</th>\n",
       "      <th>playtime_forever</th>\n",
       "    </tr>\n",
       "  </thead>\n",
       "  <tbody>\n",
       "    <tr>\n",
       "      <th>0</th>\n",
       "      <td>76561197970982479</td>\n",
       "      <td>10</td>\n",
       "      <td>6</td>\n",
       "    </tr>\n",
       "    <tr>\n",
       "      <th>1</th>\n",
       "      <td>76561197970982479</td>\n",
       "      <td>20</td>\n",
       "      <td>0</td>\n",
       "    </tr>\n",
       "    <tr>\n",
       "      <th>2</th>\n",
       "      <td>76561197970982479</td>\n",
       "      <td>30</td>\n",
       "      <td>7</td>\n",
       "    </tr>\n",
       "    <tr>\n",
       "      <th>3</th>\n",
       "      <td>76561197970982479</td>\n",
       "      <td>40</td>\n",
       "      <td>0</td>\n",
       "    </tr>\n",
       "    <tr>\n",
       "      <th>4</th>\n",
       "      <td>76561197970982479</td>\n",
       "      <td>50</td>\n",
       "      <td>0</td>\n",
       "    </tr>\n",
       "  </tbody>\n",
       "</table>\n",
       "</div>"
      ],
      "text/plain": [
       "             user_id  item_id  playtime_forever\n",
       "0  76561197970982479       10                 6\n",
       "1  76561197970982479       20                 0\n",
       "2  76561197970982479       30                 7\n",
       "3  76561197970982479       40                 0\n",
       "4  76561197970982479       50                 0"
      ]
     },
     "execution_count": 16,
     "metadata": {},
     "output_type": "execute_result"
    }
   ],
   "source": [
    "df_user_id_genres = df_items[['user_id','item_id','playtime_forever']].copy()\n",
    "df_user_id_genres.head()"
   ]
  },
  {
   "cell_type": "code",
   "execution_count": 30,
   "metadata": {},
   "outputs": [
    {
     "data": {
      "text/plain": [
       "Index(['item_id', 'item_name', 'developer', 'publisher', 'release_year',\n",
       "       'price', 'genres', 'action', 'adventure', 'animation modeling',\n",
       "       'audio production', 'casual', 'design illustration', 'early access',\n",
       "       'education', 'free to play', 'indie', 'massively multiplayer',\n",
       "       'photo editing', 'racing', 'rpg', 'simulation', 'software training',\n",
       "       'sports', 'strategy', 'utilities', 'video production', 'web publishing',\n",
       "       'clean_title'],\n",
       "      dtype='object')"
      ]
     },
     "execution_count": 30,
     "metadata": {},
     "output_type": "execute_result"
    }
   ],
   "source": [
    "df_games.columns"
   ]
  },
  {
   "cell_type": "markdown",
   "metadata": {},
   "source": [
    "#### Now we merge user_id_genres with df_games2 to bring the genres column "
   ]
  },
  {
   "cell_type": "code",
   "execution_count": 7,
   "metadata": {},
   "outputs": [],
   "source": [
    "# I will merge interactively the df_user_id_genres by each genre the function requests\n",
    "genre = 'casual'\n",
    "df_user_id_genres = df_user_id_genres.merge(df_games[['item_id', genre,'release_year']], on='item_id', how='left')"
   ]
  },
  {
   "cell_type": "code",
   "execution_count": 8,
   "metadata": {},
   "outputs": [
    {
     "name": "stdout",
     "output_type": "stream",
     "text": [
      "<class 'pandas.core.frame.DataFrame'>\n",
      "RangeIndex: 5094082 entries, 0 to 5094081\n",
      "Data columns (total 5 columns):\n",
      " #   Column            Dtype  \n",
      "---  ------            -----  \n",
      " 0   user_id           object \n",
      " 1   item_id           int64  \n",
      " 2   playtime_forever  int64  \n",
      " 3   casual            float64\n",
      " 4   release_year      Int64  \n",
      "dtypes: Int64(1), float64(1), int64(2), object(1)\n",
      "memory usage: 199.2+ MB\n"
     ]
    }
   ],
   "source": [
    "df_user_id_genres.info()"
   ]
  },
  {
   "cell_type": "code",
   "execution_count": 32,
   "metadata": {},
   "outputs": [
    {
     "data": {
      "text/plain": [
       "Index(['user_id', 'item_id', 'playtime_forever', 'action', 'release_year'], dtype='object')"
      ]
     },
     "execution_count": 32,
     "metadata": {},
     "output_type": "execute_result"
    }
   ],
   "source": [
    "df_user_id_genres.columns"
   ]
  },
  {
   "cell_type": "code",
   "execution_count": 9,
   "metadata": {},
   "outputs": [
    {
     "data": {
      "text/plain": [
       "user_id                   0\n",
       "item_id                   0\n",
       "playtime_forever          0\n",
       "casual              1101145\n",
       "release_year        1124888\n",
       "dtype: int64"
      ]
     },
     "execution_count": 9,
     "metadata": {},
     "output_type": "execute_result"
    }
   ],
   "source": [
    "nan_counts_per_column = df_user_id_genres.isna().sum()\n",
    "nan_counts_per_column"
   ]
  },
  {
   "cell_type": "code",
   "execution_count": 16,
   "metadata": {},
   "outputs": [],
   "source": [
    "df_user_id_genres.dropna(inplace=True)"
   ]
  },
  {
   "cell_type": "code",
   "execution_count": 34,
   "metadata": {},
   "outputs": [],
   "source": [
    "# We filter all items that don't belong to genre \n",
    "df_user_id_genres = df_user_id_genres[df_user_id_genres[genre] == 1]"
   ]
  },
  {
   "cell_type": "code",
   "execution_count": 36,
   "metadata": {},
   "outputs": [
    {
     "data": {
      "text/html": [
       "<div>\n",
       "<style scoped>\n",
       "    .dataframe tbody tr th:only-of-type {\n",
       "        vertical-align: middle;\n",
       "    }\n",
       "\n",
       "    .dataframe tbody tr th {\n",
       "        vertical-align: top;\n",
       "    }\n",
       "\n",
       "    .dataframe thead th {\n",
       "        text-align: right;\n",
       "    }\n",
       "</style>\n",
       "<table border=\"1\" class=\"dataframe\">\n",
       "  <thead>\n",
       "    <tr style=\"text-align: right;\">\n",
       "      <th></th>\n",
       "      <th>user_id</th>\n",
       "      <th>release_year</th>\n",
       "      <th>playtime_forever</th>\n",
       "    </tr>\n",
       "  </thead>\n",
       "  <tbody>\n",
       "    <tr>\n",
       "      <th>0</th>\n",
       "      <td>--000--</td>\n",
       "      <td>2009</td>\n",
       "      <td>5329</td>\n",
       "    </tr>\n",
       "    <tr>\n",
       "      <th>1</th>\n",
       "      <td>--000--</td>\n",
       "      <td>2010</td>\n",
       "      <td>22</td>\n",
       "    </tr>\n",
       "    <tr>\n",
       "      <th>2</th>\n",
       "      <td>--000--</td>\n",
       "      <td>2011</td>\n",
       "      <td>6522</td>\n",
       "    </tr>\n",
       "    <tr>\n",
       "      <th>3</th>\n",
       "      <td>--000--</td>\n",
       "      <td>2012</td>\n",
       "      <td>109346</td>\n",
       "    </tr>\n",
       "    <tr>\n",
       "      <th>4</th>\n",
       "      <td>--000--</td>\n",
       "      <td>2013</td>\n",
       "      <td>363</td>\n",
       "    </tr>\n",
       "    <tr>\n",
       "      <th>...</th>\n",
       "      <td>...</td>\n",
       "      <td>...</td>\n",
       "      <td>...</td>\n",
       "    </tr>\n",
       "    <tr>\n",
       "      <th>668425</th>\n",
       "      <td>zzzmidmiss</td>\n",
       "      <td>2010</td>\n",
       "      <td>273</td>\n",
       "    </tr>\n",
       "    <tr>\n",
       "      <th>668426</th>\n",
       "      <td>zzzmidmiss</td>\n",
       "      <td>2011</td>\n",
       "      <td>2302</td>\n",
       "    </tr>\n",
       "    <tr>\n",
       "      <th>668427</th>\n",
       "      <td>zzzmidmiss</td>\n",
       "      <td>2012</td>\n",
       "      <td>5714</td>\n",
       "    </tr>\n",
       "    <tr>\n",
       "      <th>668428</th>\n",
       "      <td>zzzmidmiss</td>\n",
       "      <td>2013</td>\n",
       "      <td>98</td>\n",
       "    </tr>\n",
       "    <tr>\n",
       "      <th>668429</th>\n",
       "      <td>zzzmidmiss</td>\n",
       "      <td>2014</td>\n",
       "      <td>16</td>\n",
       "    </tr>\n",
       "  </tbody>\n",
       "</table>\n",
       "<p>668430 rows × 3 columns</p>\n",
       "</div>"
      ],
      "text/plain": [
       "           user_id  release_year  playtime_forever\n",
       "0          --000--          2009              5329\n",
       "1          --000--          2010                22\n",
       "2          --000--          2011              6522\n",
       "3          --000--          2012            109346\n",
       "4          --000--          2013               363\n",
       "...            ...           ...               ...\n",
       "668425  zzzmidmiss          2010               273\n",
       "668426  zzzmidmiss          2011              2302\n",
       "668427  zzzmidmiss          2012              5714\n",
       "668428  zzzmidmiss          2013                98\n",
       "668429  zzzmidmiss          2014                16\n",
       "\n",
       "[668430 rows x 3 columns]"
      ]
     },
     "execution_count": 36,
     "metadata": {},
     "output_type": "execute_result"
    }
   ],
   "source": [
    "# Group by user_id and release_year and sum playtime_forever\n",
    "grouped_year = df_user_id_genres.groupby(['user_id', 'release_year'])['playtime_forever'].sum().reset_index()\n",
    "grouped_year"
   ]
  },
  {
   "cell_type": "code",
   "execution_count": 37,
   "metadata": {},
   "outputs": [
    {
     "data": {
      "text/html": [
       "<div>\n",
       "<style scoped>\n",
       "    .dataframe tbody tr th:only-of-type {\n",
       "        vertical-align: middle;\n",
       "    }\n",
       "\n",
       "    .dataframe tbody tr th {\n",
       "        vertical-align: top;\n",
       "    }\n",
       "\n",
       "    .dataframe thead th {\n",
       "        text-align: right;\n",
       "    }\n",
       "</style>\n",
       "<table border=\"1\" class=\"dataframe\">\n",
       "  <thead>\n",
       "    <tr style=\"text-align: right;\">\n",
       "      <th></th>\n",
       "      <th>user_id</th>\n",
       "      <th>playtime_forever</th>\n",
       "    </tr>\n",
       "  </thead>\n",
       "  <tbody>\n",
       "    <tr>\n",
       "      <th>0</th>\n",
       "      <td>--000--</td>\n",
       "      <td>139469</td>\n",
       "    </tr>\n",
       "    <tr>\n",
       "      <th>1</th>\n",
       "      <td>--ace--</td>\n",
       "      <td>69308</td>\n",
       "    </tr>\n",
       "    <tr>\n",
       "      <th>2</th>\n",
       "      <td>--ionex--</td>\n",
       "      <td>38300</td>\n",
       "    </tr>\n",
       "    <tr>\n",
       "      <th>3</th>\n",
       "      <td>-2SV-vuLB-Kg</td>\n",
       "      <td>42500</td>\n",
       "    </tr>\n",
       "    <tr>\n",
       "      <th>4</th>\n",
       "      <td>-404PageNotFound-</td>\n",
       "      <td>116783</td>\n",
       "    </tr>\n",
       "    <tr>\n",
       "      <th>...</th>\n",
       "      <td>...</td>\n",
       "      <td>...</td>\n",
       "    </tr>\n",
       "    <tr>\n",
       "      <th>67695</th>\n",
       "      <td>zzonci</td>\n",
       "      <td>0</td>\n",
       "    </tr>\n",
       "    <tr>\n",
       "      <th>67696</th>\n",
       "      <td>zzoptimuszz</td>\n",
       "      <td>74307</td>\n",
       "    </tr>\n",
       "    <tr>\n",
       "      <th>67697</th>\n",
       "      <td>zzydrax</td>\n",
       "      <td>1194</td>\n",
       "    </tr>\n",
       "    <tr>\n",
       "      <th>67698</th>\n",
       "      <td>zzyfo</td>\n",
       "      <td>16512</td>\n",
       "    </tr>\n",
       "    <tr>\n",
       "      <th>67699</th>\n",
       "      <td>zzzmidmiss</td>\n",
       "      <td>8885</td>\n",
       "    </tr>\n",
       "  </tbody>\n",
       "</table>\n",
       "<p>67700 rows × 2 columns</p>\n",
       "</div>"
      ],
      "text/plain": [
       "                 user_id  playtime_forever\n",
       "0                --000--            139469\n",
       "1                --ace--             69308\n",
       "2              --ionex--             38300\n",
       "3           -2SV-vuLB-Kg             42500\n",
       "4      -404PageNotFound-            116783\n",
       "...                  ...               ...\n",
       "67695             zzonci                 0\n",
       "67696        zzoptimuszz             74307\n",
       "67697            zzydrax              1194\n",
       "67698              zzyfo             16512\n",
       "67699         zzzmidmiss              8885\n",
       "\n",
       "[67700 rows x 2 columns]"
      ]
     },
     "execution_count": 37,
     "metadata": {},
     "output_type": "execute_result"
    }
   ],
   "source": [
    "# Group by user_id and sum playtime_forever to find the user_id with more accumulated hours\n",
    "grouped_sum = df_user_id_genres.groupby(['user_id'])['playtime_forever'].sum().reset_index()\n",
    "grouped_sum"
   ]
  },
  {
   "cell_type": "code",
   "execution_count": 38,
   "metadata": {},
   "outputs": [
    {
     "data": {
      "text/plain": [
       "user_id             Sp3ctre\n",
       "playtime_forever    1635566\n",
       "Name: 50550, dtype: object"
      ]
     },
     "execution_count": 38,
     "metadata": {},
     "output_type": "execute_result"
    }
   ],
   "source": [
    "# Find the user with the highest accumulated playtime\n",
    "max_user = grouped_sum.loc[grouped_sum['playtime_forever'].idxmax()]\n",
    "max_user"
   ]
  },
  {
   "cell_type": "code",
   "execution_count": 39,
   "metadata": {},
   "outputs": [],
   "source": [
    "# Get the accumulated playtime per year for the user with the highest accumulated playtime\n",
    "max_user_id = max_user['user_id']\n",
    "max_user_playtime = grouped_year[grouped_year['user_id'] == max_user_id].set_index('release_year')['playtime_forever'] / 60  # Convert minutes to hours"
   ]
  },
  {
   "cell_type": "code",
   "execution_count": 40,
   "metadata": {},
   "outputs": [
    {
     "data": {
      "text/plain": [
       "release_year\n",
       "1993    0\n",
       "1995    4\n",
       "1996    0\n",
       "1998    0\n",
       "1999    1\n",
       "Name: playtime_forever, dtype: int32"
      ]
     },
     "execution_count": 40,
     "metadata": {},
     "output_type": "execute_result"
    }
   ],
   "source": [
    "# Convert playtime to integer hours\n",
    "max_user_playtime = max_user_playtime.round().astype(int)\n",
    "max_user_playtime.head()"
   ]
  },
  {
   "cell_type": "code",
   "execution_count": 41,
   "metadata": {},
   "outputs": [
    {
     "data": {
      "text/plain": [
       "[{1993: 0},\n",
       " {1995: 4},\n",
       " {1996: 0},\n",
       " {1998: 0},\n",
       " {1999: 1},\n",
       " {2000: 1177},\n",
       " {2001: 0},\n",
       " {2002: 4},\n",
       " {2003: 128},\n",
       " {2004: 2124},\n",
       " {2005: 356},\n",
       " {2006: 15},\n",
       " {2007: 1880},\n",
       " {2008: 4},\n",
       " {2009: 1805},\n",
       " {2010: 1301},\n",
       " {2011: 1563},\n",
       " {2012: 6305},\n",
       " {2013: 2005},\n",
       " {2014: 2174},\n",
       " {2015: 5121},\n",
       " {2016: 488},\n",
       " {2017: 722}]"
      ]
     },
     "execution_count": 41,
     "metadata": {},
     "output_type": "execute_result"
    }
   ],
   "source": [
    "# Create a list of dictionaries containing the playtime per year\n",
    "playtime_per_year = [{year: hours} for year, hours in max_user_playtime.items()]\n",
    "playtime_per_year"
   ]
  },
  {
   "cell_type": "code",
   "execution_count": 42,
   "metadata": {},
   "outputs": [
    {
     "data": {
      "text/plain": [
       "{'User_id with more hours played per action': 'Sp3ctre',\n",
       " 'Hours played': [{1993: 0},\n",
       "  {1995: 4},\n",
       "  {1996: 0},\n",
       "  {1998: 0},\n",
       "  {1999: 1},\n",
       "  {2000: 1177},\n",
       "  {2001: 0},\n",
       "  {2002: 4},\n",
       "  {2003: 128},\n",
       "  {2004: 2124},\n",
       "  {2005: 356},\n",
       "  {2006: 15},\n",
       "  {2007: 1880},\n",
       "  {2008: 4},\n",
       "  {2009: 1805},\n",
       "  {2010: 1301},\n",
       "  {2011: 1563},\n",
       "  {2012: 6305},\n",
       "  {2013: 2005},\n",
       "  {2014: 2174},\n",
       "  {2015: 5121},\n",
       "  {2016: 488},\n",
       "  {2017: 722}]}"
      ]
     },
     "execution_count": 42,
     "metadata": {},
     "output_type": "execute_result"
    }
   ],
   "source": [
    "# Return the result in dictionary format\n",
    "result = {\n",
    "    f'User_id with more hours played per {genre}': max_user_id,\n",
    "    'Hours played': playtime_per_year\n",
    "}\n",
    "result"
   ]
  },
  {
   "cell_type": "markdown",
   "metadata": {},
   "source": [
    "### Now we create the function\n",
    "We compound all this steps to create a function that will create a df interactively starting with user_id_genre and df_games where genre is a column that will be merged into the df user_id_genre<br>\n",
    "Genre is the variable that is the input of the function<br> "
   ]
  },
  {
   "cell_type": "code",
   "execution_count": 22,
   "metadata": {},
   "outputs": [],
   "source": [
    "def userForGenre(genre):\n",
    "    user_id_genres = df_user_id_genres\n",
    "    user_id_genres = user_id_genres.merge(df_games[['item_id', genre,'release_year']], on='item_id', how='left')\n",
    "    \n",
    "    user_id_genres.dropna(inplace=True)\n",
    "    \n",
    "    user_id_genres = user_id_genres[user_id_genres[genre] == 1]\n",
    "    grouped_year = user_id_genres.groupby(['user_id', 'release_year'])['playtime_forever'].sum().reset_index()\n",
    "    grouped_sum = user_id_genres.groupby(['user_id'])['playtime_forever'].sum().reset_index()\n",
    "\n",
    "    max_user = grouped_sum.loc[grouped_sum['playtime_forever'].idxmax()]\n",
    "    max_user_id = max_user['user_id']\n",
    "    max_user_playtime = grouped_year[grouped_year['user_id'] == max_user_id].set_index('release_year')['playtime_forever'] / 60  # Convert minutes to hours\n",
    "\n",
    "    max_user_playtime = max_user_playtime.round().astype(int)\n",
    "\n",
    "    # Create a list of dictionaries containing the playtime per year\n",
    "    playtime_per_year = [{year: hours} for year, hours in max_user_playtime.items()]\n",
    "\n",
    "    result = {\n",
    "        f'User_id with more hours played per {genre}': max_user_id,\n",
    "        'Hours played': playtime_per_year\n",
    "        }\n",
    "    return result"
   ]
  },
  {
   "cell_type": "code",
   "execution_count": 23,
   "metadata": {},
   "outputs": [
    {
     "data": {
      "text/plain": [
       "{'User_id with more hours played per casual': 'REBAS_AS_F-T',\n",
       " 'Hours played': [{1999: 0},\n",
       "  {2002: 0},\n",
       "  {2004: 116},\n",
       "  {2007: 0},\n",
       "  {2008: 21},\n",
       "  {2009: 48},\n",
       "  {2010: 201},\n",
       "  {2011: 1311},\n",
       "  {2012: 495},\n",
       "  {2013: 1799},\n",
       "  {2014: 2032},\n",
       "  {2015: 6037},\n",
       "  {2016: 8304},\n",
       "  {2017: 1}]}"
      ]
     },
     "execution_count": 23,
     "metadata": {},
     "output_type": "execute_result"
    }
   ],
   "source": [
    "# Example usage\n",
    "userForGenre('casual')"
   ]
  },
  {
   "cell_type": "code",
   "execution_count": 19,
   "metadata": {},
   "outputs": [],
   "source": [
    "def userForGenre(filtered_df, genre):\n",
    "    user_id_genres = filtered_df\n",
    "    \n",
    "    user_id_genres = user_id_genres.merge(df_games[['item_id', genre,'release_year']], on='item_id', how='left')\n",
    "    \n",
    "    user_id_genres.dropna(inplace=True)\n",
    "    \n",
    "    user_id_genres = user_id_genres[user_id_genres[genre] == 1]\n",
    "    grouped_year = user_id_genres.groupby(['user_id', 'release_year'])['playtime_forever'].sum().reset_index()\n",
    "    grouped_sum = user_id_genres.groupby(['user_id'])['playtime_forever'].sum().reset_index()\n",
    "\n",
    "    max_user = grouped_sum.loc[grouped_sum['playtime_forever'].idxmax()]\n",
    "    max_user_id = max_user['user_id']\n",
    "    max_user_playtime = grouped_year[grouped_year['user_id'] == max_user_id].set_index('release_year')['playtime_forever'] / 60  # Convert minutes to hours\n",
    "\n",
    "    max_user_playtime = max_user_playtime.round().astype(int)\n",
    "\n",
    "    # Create a list of dictionaries containing the playtime per year\n",
    "    playtime_per_year = [{year: hours} for year, hours in max_user_playtime.items()]\n",
    "\n",
    "    result = {\n",
    "        f'User_id with more hours played per {genre}': max_user_id,\n",
    "        'Hours played': playtime_per_year\n",
    "        }\n",
    "    return result"
   ]
  },
  {
   "cell_type": "code",
   "execution_count": 21,
   "metadata": {},
   "outputs": [
    {
     "data": {
      "text/plain": [
       "{'User_id with more hours played per casual': 'REBAS_AS_F-T',\n",
       " 'Hours played': [{1999: 0},\n",
       "  {2002: 0},\n",
       "  {2004: 116},\n",
       "  {2007: 0},\n",
       "  {2008: 21},\n",
       "  {2009: 48},\n",
       "  {2010: 201},\n",
       "  {2011: 1311},\n",
       "  {2012: 495},\n",
       "  {2013: 1799},\n",
       "  {2014: 2032},\n",
       "  {2015: 6037},\n",
       "  {2016: 8304},\n",
       "  {2017: 1}]}"
      ]
     },
     "execution_count": 21,
     "metadata": {},
     "output_type": "execute_result"
    }
   ],
   "source": [
    "# Example usage\n",
    "userForGenre(filtered_df,'casual')"
   ]
  },
  {
   "cell_type": "markdown",
   "metadata": {},
   "source": [
    "## 3.2.4 **Best_developer_year**: this function returns the top 3 developers based on the largest amount of recommendations for the given year (reviews.recommend = True and sentiment = 2)<br>"
   ]
  },
  {
   "cell_type": "code",
   "execution_count": 52,
   "metadata": {},
   "outputs": [],
   "source": [
    "df_best_developers = df_reviews[['item_id','recommend','year','sentiment']]"
   ]
  },
  {
   "cell_type": "code",
   "execution_count": 53,
   "metadata": {},
   "outputs": [
    {
     "data": {
      "text/html": [
       "<div>\n",
       "<style scoped>\n",
       "    .dataframe tbody tr th:only-of-type {\n",
       "        vertical-align: middle;\n",
       "    }\n",
       "\n",
       "    .dataframe tbody tr th {\n",
       "        vertical-align: top;\n",
       "    }\n",
       "\n",
       "    .dataframe thead th {\n",
       "        text-align: right;\n",
       "    }\n",
       "</style>\n",
       "<table border=\"1\" class=\"dataframe\">\n",
       "  <thead>\n",
       "    <tr style=\"text-align: right;\">\n",
       "      <th></th>\n",
       "      <th>item_id</th>\n",
       "      <th>recommend</th>\n",
       "      <th>year</th>\n",
       "      <th>sentiment</th>\n",
       "      <th>developer</th>\n",
       "    </tr>\n",
       "  </thead>\n",
       "  <tbody>\n",
       "    <tr>\n",
       "      <th>0</th>\n",
       "      <td>1250</td>\n",
       "      <td>True</td>\n",
       "      <td>2011</td>\n",
       "      <td>2</td>\n",
       "      <td>Tripwire Interactive</td>\n",
       "    </tr>\n",
       "    <tr>\n",
       "      <th>1</th>\n",
       "      <td>22200</td>\n",
       "      <td>True</td>\n",
       "      <td>2011</td>\n",
       "      <td>2</td>\n",
       "      <td>ACE Team</td>\n",
       "    </tr>\n",
       "    <tr>\n",
       "      <th>2</th>\n",
       "      <td>43110</td>\n",
       "      <td>True</td>\n",
       "      <td>2011</td>\n",
       "      <td>2</td>\n",
       "      <td>NaN</td>\n",
       "    </tr>\n",
       "    <tr>\n",
       "      <th>3</th>\n",
       "      <td>251610</td>\n",
       "      <td>True</td>\n",
       "      <td>2014</td>\n",
       "      <td>2</td>\n",
       "      <td>NaN</td>\n",
       "    </tr>\n",
       "    <tr>\n",
       "      <th>4</th>\n",
       "      <td>227300</td>\n",
       "      <td>True</td>\n",
       "      <td>2013</td>\n",
       "      <td>2</td>\n",
       "      <td>SCS Software</td>\n",
       "    </tr>\n",
       "    <tr>\n",
       "      <th>...</th>\n",
       "      <td>...</td>\n",
       "      <td>...</td>\n",
       "      <td>...</td>\n",
       "      <td>...</td>\n",
       "      <td>...</td>\n",
       "    </tr>\n",
       "    <tr>\n",
       "      <th>58395</th>\n",
       "      <td>70</td>\n",
       "      <td>True</td>\n",
       "      <td>2024</td>\n",
       "      <td>2</td>\n",
       "      <td>Valve</td>\n",
       "    </tr>\n",
       "    <tr>\n",
       "      <th>58396</th>\n",
       "      <td>362890</td>\n",
       "      <td>True</td>\n",
       "      <td>2024</td>\n",
       "      <td>2</td>\n",
       "      <td>Crowbar Collective</td>\n",
       "    </tr>\n",
       "    <tr>\n",
       "      <th>58397</th>\n",
       "      <td>273110</td>\n",
       "      <td>True</td>\n",
       "      <td>2024</td>\n",
       "      <td>2</td>\n",
       "      <td>Nexon</td>\n",
       "    </tr>\n",
       "    <tr>\n",
       "      <th>58398</th>\n",
       "      <td>730</td>\n",
       "      <td>True</td>\n",
       "      <td>2024</td>\n",
       "      <td>1</td>\n",
       "      <td>Valve</td>\n",
       "    </tr>\n",
       "    <tr>\n",
       "      <th>58399</th>\n",
       "      <td>440</td>\n",
       "      <td>True</td>\n",
       "      <td>2024</td>\n",
       "      <td>1</td>\n",
       "      <td>Valve</td>\n",
       "    </tr>\n",
       "  </tbody>\n",
       "</table>\n",
       "<p>58400 rows × 5 columns</p>\n",
       "</div>"
      ],
      "text/plain": [
       "       item_id  recommend  year  sentiment             developer\n",
       "0         1250       True  2011          2  Tripwire Interactive\n",
       "1        22200       True  2011          2              ACE Team\n",
       "2        43110       True  2011          2                   NaN\n",
       "3       251610       True  2014          2                   NaN\n",
       "4       227300       True  2013          2          SCS Software\n",
       "...        ...        ...   ...        ...                   ...\n",
       "58395       70       True  2024          2                 Valve\n",
       "58396   362890       True  2024          2    Crowbar Collective\n",
       "58397   273110       True  2024          2                 Nexon\n",
       "58398      730       True  2024          1                 Valve\n",
       "58399      440       True  2024          1                 Valve\n",
       "\n",
       "[58400 rows x 5 columns]"
      ]
     },
     "execution_count": 53,
     "metadata": {},
     "output_type": "execute_result"
    }
   ],
   "source": [
    "df_best_developers = df_best_developers.merge(df_games[['item_id', 'developer']], on='item_id', how='left') \n",
    "df_best_developers"
   ]
  },
  {
   "cell_type": "code",
   "execution_count": 227,
   "metadata": {},
   "outputs": [
    {
     "name": "stdout",
     "output_type": "stream",
     "text": [
      "developers DataFrame was stored into data/best_developer.parquet\n"
     ]
    }
   ],
   "source": [
    "# Define the file path for storing the Parquet file\n",
    "best_developers = 'data/best_developer.parquet'\n",
    "\n",
    "# Store the DataFrame as a Parquet file\n",
    "df_best_developers.to_parquet(best_developers, index=False)\n",
    "\n",
    "# Print a message confirming the storage location\n",
    "print(f'developers DataFrame was stored into {best_developers}')"
   ]
  },
  {
   "cell_type": "code",
   "execution_count": 228,
   "metadata": {},
   "outputs": [
    {
     "data": {
      "text/html": [
       "<div>\n",
       "<style scoped>\n",
       "    .dataframe tbody tr th:only-of-type {\n",
       "        vertical-align: middle;\n",
       "    }\n",
       "\n",
       "    .dataframe tbody tr th {\n",
       "        vertical-align: top;\n",
       "    }\n",
       "\n",
       "    .dataframe thead th {\n",
       "        text-align: right;\n",
       "    }\n",
       "</style>\n",
       "<table border=\"1\" class=\"dataframe\">\n",
       "  <thead>\n",
       "    <tr style=\"text-align: right;\">\n",
       "      <th></th>\n",
       "      <th>item_id</th>\n",
       "      <th>recommend</th>\n",
       "      <th>year</th>\n",
       "      <th>sentiment</th>\n",
       "      <th>developer</th>\n",
       "    </tr>\n",
       "  </thead>\n",
       "  <tbody>\n",
       "    <tr>\n",
       "      <th>4</th>\n",
       "      <td>227300</td>\n",
       "      <td>True</td>\n",
       "      <td>2013</td>\n",
       "      <td>2</td>\n",
       "      <td>SCS Software</td>\n",
       "    </tr>\n",
       "    <tr>\n",
       "      <th>5</th>\n",
       "      <td>239030</td>\n",
       "      <td>True</td>\n",
       "      <td>2013</td>\n",
       "      <td>2</td>\n",
       "      <td>3909</td>\n",
       "    </tr>\n",
       "    <tr>\n",
       "      <th>12</th>\n",
       "      <td>250320</td>\n",
       "      <td>True</td>\n",
       "      <td>2013</td>\n",
       "      <td>2</td>\n",
       "      <td>Telltale Games</td>\n",
       "    </tr>\n",
       "    <tr>\n",
       "      <th>19</th>\n",
       "      <td>211820</td>\n",
       "      <td>True</td>\n",
       "      <td>2013</td>\n",
       "      <td>2</td>\n",
       "      <td>Chucklefish</td>\n",
       "    </tr>\n",
       "    <tr>\n",
       "      <th>21</th>\n",
       "      <td>204300</td>\n",
       "      <td>True</td>\n",
       "      <td>2013</td>\n",
       "      <td>2</td>\n",
       "      <td>Ronimo Games</td>\n",
       "    </tr>\n",
       "    <tr>\n",
       "      <th>...</th>\n",
       "      <td>...</td>\n",
       "      <td>...</td>\n",
       "      <td>...</td>\n",
       "      <td>...</td>\n",
       "      <td>...</td>\n",
       "    </tr>\n",
       "    <tr>\n",
       "      <th>57434</th>\n",
       "      <td>239350</td>\n",
       "      <td>True</td>\n",
       "      <td>2013</td>\n",
       "      <td>2</td>\n",
       "      <td>NaN</td>\n",
       "    </tr>\n",
       "    <tr>\n",
       "      <th>57435</th>\n",
       "      <td>225080</td>\n",
       "      <td>True</td>\n",
       "      <td>2013</td>\n",
       "      <td>1</td>\n",
       "      <td>Starbreeze Studios AB</td>\n",
       "    </tr>\n",
       "    <tr>\n",
       "      <th>57436</th>\n",
       "      <td>550</td>\n",
       "      <td>True</td>\n",
       "      <td>2013</td>\n",
       "      <td>1</td>\n",
       "      <td>Valve</td>\n",
       "    </tr>\n",
       "    <tr>\n",
       "      <th>57437</th>\n",
       "      <td>105600</td>\n",
       "      <td>True</td>\n",
       "      <td>2013</td>\n",
       "      <td>1</td>\n",
       "      <td>Re-Logic</td>\n",
       "    </tr>\n",
       "    <tr>\n",
       "      <th>57448</th>\n",
       "      <td>440</td>\n",
       "      <td>True</td>\n",
       "      <td>2013</td>\n",
       "      <td>1</td>\n",
       "      <td>Valve</td>\n",
       "    </tr>\n",
       "  </tbody>\n",
       "</table>\n",
       "<p>6707 rows × 5 columns</p>\n",
       "</div>"
      ],
      "text/plain": [
       "       item_id  recommend  year  sentiment              developer\n",
       "4       227300       True  2013          2           SCS Software\n",
       "5       239030       True  2013          2                   3909\n",
       "12      250320       True  2013          2         Telltale Games\n",
       "19      211820       True  2013          2            Chucklefish\n",
       "21      204300       True  2013          2           Ronimo Games\n",
       "...        ...        ...   ...        ...                    ...\n",
       "57434   239350       True  2013          2                    NaN\n",
       "57435   225080       True  2013          1  Starbreeze Studios AB\n",
       "57436      550       True  2013          1                  Valve\n",
       "57437   105600       True  2013          1               Re-Logic\n",
       "57448      440       True  2013          1                  Valve\n",
       "\n",
       "[6707 rows x 5 columns]"
      ]
     },
     "execution_count": 228,
     "metadata": {},
     "output_type": "execute_result"
    }
   ],
   "source": [
    "year = 2013\n",
    "# Filter Developers per year\n",
    "df_best_dev = df_best_developers[df_best_developers['year']== year]\n",
    "df_best_dev "
   ]
  },
  {
   "cell_type": "code",
   "execution_count": 229,
   "metadata": {},
   "outputs": [
    {
     "name": "stdout",
     "output_type": "stream",
     "text": [
      "<class 'pandas.core.frame.DataFrame'>\n",
      "Index: 5525 entries, 4 to 57448\n",
      "Data columns (total 5 columns):\n",
      " #   Column     Non-Null Count  Dtype \n",
      "---  ------     --------------  ----- \n",
      " 0   item_id    5525 non-null   int64 \n",
      " 1   recommend  5525 non-null   bool  \n",
      " 2   year       5525 non-null   int32 \n",
      " 3   sentiment  5525 non-null   int64 \n",
      " 4   developer  5525 non-null   object\n",
      "dtypes: bool(1), int32(1), int64(2), object(1)\n",
      "memory usage: 199.6+ KB\n"
     ]
    }
   ],
   "source": [
    "df_best_dev  = df_best_dev .dropna()\n",
    "df_best_dev .info()"
   ]
  },
  {
   "cell_type": "code",
   "execution_count": 230,
   "metadata": {},
   "outputs": [
    {
     "data": {
      "text/html": [
       "<div>\n",
       "<style scoped>\n",
       "    .dataframe tbody tr th:only-of-type {\n",
       "        vertical-align: middle;\n",
       "    }\n",
       "\n",
       "    .dataframe tbody tr th {\n",
       "        vertical-align: top;\n",
       "    }\n",
       "\n",
       "    .dataframe thead th {\n",
       "        text-align: right;\n",
       "    }\n",
       "</style>\n",
       "<table border=\"1\" class=\"dataframe\">\n",
       "  <thead>\n",
       "    <tr style=\"text-align: right;\">\n",
       "      <th></th>\n",
       "      <th>developer</th>\n",
       "      <th>count</th>\n",
       "    </tr>\n",
       "  </thead>\n",
       "  <tbody>\n",
       "    <tr>\n",
       "      <th>0</th>\n",
       "      <td>14° East</td>\n",
       "      <td>1</td>\n",
       "    </tr>\n",
       "    <tr>\n",
       "      <th>1</th>\n",
       "      <td>1C:InoCo</td>\n",
       "      <td>2</td>\n",
       "    </tr>\n",
       "    <tr>\n",
       "      <th>2</th>\n",
       "      <td>2D BOY</td>\n",
       "      <td>2</td>\n",
       "    </tr>\n",
       "    <tr>\n",
       "      <th>3</th>\n",
       "      <td>2DEngine.com</td>\n",
       "      <td>1</td>\n",
       "    </tr>\n",
       "    <tr>\n",
       "      <th>4</th>\n",
       "      <td>2K Boston,2K Australia</td>\n",
       "      <td>10</td>\n",
       "    </tr>\n",
       "    <tr>\n",
       "      <th>...</th>\n",
       "      <td>...</td>\n",
       "      <td>...</td>\n",
       "    </tr>\n",
       "    <tr>\n",
       "      <th>401</th>\n",
       "      <td>Zero Point Software</td>\n",
       "      <td>3</td>\n",
       "    </tr>\n",
       "    <tr>\n",
       "      <th>402</th>\n",
       "      <td>Zombie Panic Team</td>\n",
       "      <td>12</td>\n",
       "    </tr>\n",
       "    <tr>\n",
       "      <th>403</th>\n",
       "      <td>id Software</td>\n",
       "      <td>10</td>\n",
       "    </tr>\n",
       "    <tr>\n",
       "      <th>404</th>\n",
       "      <td>inXile Entertainment</td>\n",
       "      <td>1</td>\n",
       "    </tr>\n",
       "    <tr>\n",
       "      <th>405</th>\n",
       "      <td>sparsevector</td>\n",
       "      <td>4</td>\n",
       "    </tr>\n",
       "  </tbody>\n",
       "</table>\n",
       "<p>406 rows × 2 columns</p>\n",
       "</div>"
      ],
      "text/plain": [
       "                  developer  count\n",
       "0                  14° East      1\n",
       "1                  1C:InoCo      2\n",
       "2                    2D BOY      2\n",
       "3              2DEngine.com      1\n",
       "4    2K Boston,2K Australia     10\n",
       "..                      ...    ...\n",
       "401     Zero Point Software      3\n",
       "402       Zombie Panic Team     12\n",
       "403             id Software     10\n",
       "404    inXile Entertainment      1\n",
       "405            sparsevector      4\n",
       "\n",
       "[406 rows x 2 columns]"
      ]
     },
     "execution_count": 230,
     "metadata": {},
     "output_type": "execute_result"
    }
   ],
   "source": [
    "grouped = df_best_dev [(df_best_dev ['sentiment'] ==2) | ((df_best_dev ['recommend'] == True))].groupby('developer').size().reset_index(name='count')\n",
    "grouped"
   ]
  },
  {
   "cell_type": "code",
   "execution_count": 231,
   "metadata": {},
   "outputs": [],
   "source": [
    "# Sort the developers based on the count in descending order\n",
    "sorted_developers = grouped.sort_values(by='count', ascending=False)"
   ]
  },
  {
   "cell_type": "code",
   "execution_count": 232,
   "metadata": {},
   "outputs": [
    {
     "data": {
      "text/html": [
       "<div>\n",
       "<style scoped>\n",
       "    .dataframe tbody tr th:only-of-type {\n",
       "        vertical-align: middle;\n",
       "    }\n",
       "\n",
       "    .dataframe tbody tr th {\n",
       "        vertical-align: top;\n",
       "    }\n",
       "\n",
       "    .dataframe thead th {\n",
       "        text-align: right;\n",
       "    }\n",
       "</style>\n",
       "<table border=\"1\" class=\"dataframe\">\n",
       "  <thead>\n",
       "    <tr style=\"text-align: right;\">\n",
       "      <th></th>\n",
       "      <th>developer</th>\n",
       "      <th>count</th>\n",
       "    </tr>\n",
       "  </thead>\n",
       "  <tbody>\n",
       "    <tr>\n",
       "      <th>382</th>\n",
       "      <td>Valve</td>\n",
       "      <td>1432</td>\n",
       "    </tr>\n",
       "    <tr>\n",
       "      <th>132</th>\n",
       "      <td>Facepunch Studios</td>\n",
       "      <td>386</td>\n",
       "    </tr>\n",
       "    <tr>\n",
       "      <th>272</th>\n",
       "      <td>Re-Logic</td>\n",
       "      <td>148</td>\n",
       "    </tr>\n",
       "  </tbody>\n",
       "</table>\n",
       "</div>"
      ],
      "text/plain": [
       "             developer  count\n",
       "382              Valve   1432\n",
       "132  Facepunch Studios    386\n",
       "272           Re-Logic    148"
      ]
     },
     "execution_count": 232,
     "metadata": {},
     "output_type": "execute_result"
    }
   ],
   "source": [
    "# Get the top 3 developers\n",
    "top_3_developers = sorted_developers.head(3)\n",
    "top_3_developers"
   ]
  },
  {
   "cell_type": "code",
   "execution_count": 233,
   "metadata": {},
   "outputs": [
    {
     "data": {
      "text/plain": [
       "{' Top #1 Developer ': 'Valve',\n",
       " ' Top #2 Developer ': 'Facepunch Studios',\n",
       " ' Top #3 Developer ': 'Re-Logic'}"
      ]
     },
     "execution_count": 233,
     "metadata": {},
     "output_type": "execute_result"
    }
   ],
   "source": [
    "# Create a dictionary to store the results\n",
    "result = {}\n",
    "positions = ['1', '2', '3']\n",
    "\n",
    "for i, row in enumerate(top_3_developers['developer']):\n",
    "    result[f' Top #{positions[i]} Developer '] = row\n",
    "result"
   ]
  },
  {
   "cell_type": "code",
   "execution_count": 54,
   "metadata": {},
   "outputs": [],
   "source": [
    "def top_developers(year):\n",
    "  \n",
    "    # Load the data from the Parquet file\n",
    "    df_dev = df_best_developers\n",
    "    \n",
    "    # Filter Developers per year\n",
    "    df_developers = df_dev[df_dev['year']== year]\n",
    "\n",
    "    df_developers = df_developers.dropna()\n",
    "    grouped = df_developers[(df_developers['sentiment'] ==2) | ((df_developers['recommend'] == True))].groupby('developer').size().reset_index(name='count')\n",
    "\n",
    "    # Sort the df_developers based on the count in descending order\n",
    "    sorted_developers = grouped.sort_values(by='count', ascending=False)\n",
    "\n",
    "    # Get the top 3 df_developers\n",
    "    top_3_developers = sorted_developers.head(3)\n",
    "\n",
    "    # Create a dictionary to store the results\n",
    "    result = {}\n",
    "    positions = ['1', '2', '3']\n",
    "\n",
    "    for i, row in enumerate(top_3_developers['developer']):\n",
    "        result[f' Top #{positions[i]} Developer '] = row\n",
    "        \n",
    "    return result"
   ]
  },
  {
   "cell_type": "code",
   "execution_count": 56,
   "metadata": {},
   "outputs": [
    {
     "data": {
      "text/plain": [
       "{' Top #1 Developer ': 'Valve',\n",
       " ' Top #2 Developer ': 'Tripwire Interactive',\n",
       " ' Top #3 Developer ': 'Facepunch Studios'}"
      ]
     },
     "execution_count": 56,
     "metadata": {},
     "output_type": "execute_result"
    }
   ],
   "source": [
    "# Example usage\n",
    "top_developers(2010)"
   ]
  },
  {
   "cell_type": "markdown",
   "metadata": {},
   "source": [
    "## 3.2.5 **Developer_Reviews_Analyis**: given a developer, the function returns a dicctionary with developer as keys and the amount of Positive and Negative Sentiment Reviews.<br> "
   ]
  },
  {
   "cell_type": "code",
   "execution_count": 48,
   "metadata": {},
   "outputs": [
    {
     "data": {
      "text/html": [
       "<div>\n",
       "<style scoped>\n",
       "    .dataframe tbody tr th:only-of-type {\n",
       "        vertical-align: middle;\n",
       "    }\n",
       "\n",
       "    .dataframe tbody tr th {\n",
       "        vertical-align: top;\n",
       "    }\n",
       "\n",
       "    .dataframe thead th {\n",
       "        text-align: right;\n",
       "    }\n",
       "</style>\n",
       "<table border=\"1\" class=\"dataframe\">\n",
       "  <thead>\n",
       "    <tr style=\"text-align: right;\">\n",
       "      <th></th>\n",
       "      <th>item_id</th>\n",
       "      <th>recommend</th>\n",
       "      <th>year</th>\n",
       "      <th>sentiment</th>\n",
       "    </tr>\n",
       "  </thead>\n",
       "  <tbody>\n",
       "    <tr>\n",
       "      <th>0</th>\n",
       "      <td>1250</td>\n",
       "      <td>True</td>\n",
       "      <td>2011</td>\n",
       "      <td>2</td>\n",
       "    </tr>\n",
       "    <tr>\n",
       "      <th>1</th>\n",
       "      <td>22200</td>\n",
       "      <td>True</td>\n",
       "      <td>2011</td>\n",
       "      <td>2</td>\n",
       "    </tr>\n",
       "    <tr>\n",
       "      <th>2</th>\n",
       "      <td>43110</td>\n",
       "      <td>True</td>\n",
       "      <td>2011</td>\n",
       "      <td>2</td>\n",
       "    </tr>\n",
       "    <tr>\n",
       "      <th>3</th>\n",
       "      <td>251610</td>\n",
       "      <td>True</td>\n",
       "      <td>2014</td>\n",
       "      <td>2</td>\n",
       "    </tr>\n",
       "    <tr>\n",
       "      <th>4</th>\n",
       "      <td>227300</td>\n",
       "      <td>True</td>\n",
       "      <td>2013</td>\n",
       "      <td>2</td>\n",
       "    </tr>\n",
       "    <tr>\n",
       "      <th>...</th>\n",
       "      <td>...</td>\n",
       "      <td>...</td>\n",
       "      <td>...</td>\n",
       "      <td>...</td>\n",
       "    </tr>\n",
       "    <tr>\n",
       "      <th>58395</th>\n",
       "      <td>70</td>\n",
       "      <td>True</td>\n",
       "      <td>2024</td>\n",
       "      <td>2</td>\n",
       "    </tr>\n",
       "    <tr>\n",
       "      <th>58396</th>\n",
       "      <td>362890</td>\n",
       "      <td>True</td>\n",
       "      <td>2024</td>\n",
       "      <td>2</td>\n",
       "    </tr>\n",
       "    <tr>\n",
       "      <th>58397</th>\n",
       "      <td>273110</td>\n",
       "      <td>True</td>\n",
       "      <td>2024</td>\n",
       "      <td>2</td>\n",
       "    </tr>\n",
       "    <tr>\n",
       "      <th>58398</th>\n",
       "      <td>730</td>\n",
       "      <td>True</td>\n",
       "      <td>2024</td>\n",
       "      <td>1</td>\n",
       "    </tr>\n",
       "    <tr>\n",
       "      <th>58399</th>\n",
       "      <td>440</td>\n",
       "      <td>True</td>\n",
       "      <td>2024</td>\n",
       "      <td>1</td>\n",
       "    </tr>\n",
       "  </tbody>\n",
       "</table>\n",
       "<p>58400 rows × 4 columns</p>\n",
       "</div>"
      ],
      "text/plain": [
       "       item_id  recommend  year  sentiment\n",
       "0         1250       True  2011          2\n",
       "1        22200       True  2011          2\n",
       "2        43110       True  2011          2\n",
       "3       251610       True  2014          2\n",
       "4       227300       True  2013          2\n",
       "...        ...        ...   ...        ...\n",
       "58395       70       True  2024          2\n",
       "58396   362890       True  2024          2\n",
       "58397   273110       True  2024          2\n",
       "58398      730       True  2024          1\n",
       "58399      440       True  2024          1\n",
       "\n",
       "[58400 rows x 4 columns]"
      ]
     },
     "execution_count": 48,
     "metadata": {},
     "output_type": "execute_result"
    }
   ],
   "source": [
    "df_best_developers"
   ]
  },
  {
   "cell_type": "code",
   "execution_count": 243,
   "metadata": {},
   "outputs": [
    {
     "data": {
      "text/plain": [
       "developer\n",
       "Valve                        9433\n",
       "Facepunch Studios            2510\n",
       "Bohemia Interactive          1145\n",
       "Smartly Dressed Games        1047\n",
       "Re-Logic                      729\n",
       "                             ... \n",
       "Rusty Lake                      1\n",
       "Biart Company LLC               1\n",
       "Alawar Entertainment            1\n",
       "PolarityFlow,Adrian Zingg       1\n",
       "Aeon Dream Studios              1\n",
       "Name: count, Length: 2030, dtype: int64"
      ]
     },
     "execution_count": 243,
     "metadata": {},
     "output_type": "execute_result"
    }
   ],
   "source": [
    "df_best_developers.developer.value_counts()"
   ]
  },
  {
   "cell_type": "code",
   "execution_count": 244,
   "metadata": {},
   "outputs": [
    {
     "data": {
      "text/html": [
       "<div>\n",
       "<style scoped>\n",
       "    .dataframe tbody tr th:only-of-type {\n",
       "        vertical-align: middle;\n",
       "    }\n",
       "\n",
       "    .dataframe tbody tr th {\n",
       "        vertical-align: top;\n",
       "    }\n",
       "\n",
       "    .dataframe thead th {\n",
       "        text-align: right;\n",
       "    }\n",
       "</style>\n",
       "<table border=\"1\" class=\"dataframe\">\n",
       "  <thead>\n",
       "    <tr style=\"text-align: right;\">\n",
       "      <th></th>\n",
       "      <th>item_id</th>\n",
       "      <th>recommend</th>\n",
       "      <th>year</th>\n",
       "      <th>sentiment</th>\n",
       "      <th>developer</th>\n",
       "    </tr>\n",
       "  </thead>\n",
       "  <tbody>\n",
       "    <tr>\n",
       "      <th>20</th>\n",
       "      <td>730</td>\n",
       "      <td>True</td>\n",
       "      <td>2014</td>\n",
       "      <td>2</td>\n",
       "      <td>Valve</td>\n",
       "    </tr>\n",
       "    <tr>\n",
       "      <th>24</th>\n",
       "      <td>550</td>\n",
       "      <td>True</td>\n",
       "      <td>2012</td>\n",
       "      <td>2</td>\n",
       "      <td>Valve</td>\n",
       "    </tr>\n",
       "    <tr>\n",
       "      <th>26</th>\n",
       "      <td>220</td>\n",
       "      <td>True</td>\n",
       "      <td>2012</td>\n",
       "      <td>2</td>\n",
       "      <td>Valve</td>\n",
       "    </tr>\n",
       "    <tr>\n",
       "      <th>27</th>\n",
       "      <td>730</td>\n",
       "      <td>True</td>\n",
       "      <td>2024</td>\n",
       "      <td>1</td>\n",
       "      <td>Valve</td>\n",
       "    </tr>\n",
       "    <tr>\n",
       "      <th>28</th>\n",
       "      <td>730</td>\n",
       "      <td>True</td>\n",
       "      <td>2024</td>\n",
       "      <td>2</td>\n",
       "      <td>Valve</td>\n",
       "    </tr>\n",
       "    <tr>\n",
       "      <th>...</th>\n",
       "      <td>...</td>\n",
       "      <td>...</td>\n",
       "      <td>...</td>\n",
       "      <td>...</td>\n",
       "      <td>...</td>\n",
       "    </tr>\n",
       "    <tr>\n",
       "      <th>58383</th>\n",
       "      <td>440</td>\n",
       "      <td>True</td>\n",
       "      <td>2024</td>\n",
       "      <td>2</td>\n",
       "      <td>Valve</td>\n",
       "    </tr>\n",
       "    <tr>\n",
       "      <th>58391</th>\n",
       "      <td>730</td>\n",
       "      <td>True</td>\n",
       "      <td>2024</td>\n",
       "      <td>1</td>\n",
       "      <td>Valve</td>\n",
       "    </tr>\n",
       "    <tr>\n",
       "      <th>58395</th>\n",
       "      <td>70</td>\n",
       "      <td>True</td>\n",
       "      <td>2024</td>\n",
       "      <td>2</td>\n",
       "      <td>Valve</td>\n",
       "    </tr>\n",
       "    <tr>\n",
       "      <th>58398</th>\n",
       "      <td>730</td>\n",
       "      <td>True</td>\n",
       "      <td>2024</td>\n",
       "      <td>1</td>\n",
       "      <td>Valve</td>\n",
       "    </tr>\n",
       "    <tr>\n",
       "      <th>58399</th>\n",
       "      <td>440</td>\n",
       "      <td>True</td>\n",
       "      <td>2024</td>\n",
       "      <td>1</td>\n",
       "      <td>Valve</td>\n",
       "    </tr>\n",
       "  </tbody>\n",
       "</table>\n",
       "<p>9433 rows × 5 columns</p>\n",
       "</div>"
      ],
      "text/plain": [
       "       item_id  recommend  year  sentiment developer\n",
       "20         730       True  2014          2     Valve\n",
       "24         550       True  2012          2     Valve\n",
       "26         220       True  2012          2     Valve\n",
       "27         730       True  2024          1     Valve\n",
       "28         730       True  2024          2     Valve\n",
       "...        ...        ...   ...        ...       ...\n",
       "58383      440       True  2024          2     Valve\n",
       "58391      730       True  2024          1     Valve\n",
       "58395       70       True  2024          2     Valve\n",
       "58398      730       True  2024          1     Valve\n",
       "58399      440       True  2024          1     Valve\n",
       "\n",
       "[9433 rows x 5 columns]"
      ]
     },
     "execution_count": 244,
     "metadata": {},
     "output_type": "execute_result"
    }
   ],
   "source": [
    "developer_name = 'Valve'\n",
    "# Filter the DataFrame for the specified developer\n",
    "df_developer_ra = df_best_developers[df_best_developers['developer'] == developer_name]\n",
    "df_developer_ra"
   ]
  },
  {
   "cell_type": "code",
   "execution_count": 245,
   "metadata": {},
   "outputs": [
    {
     "name": "stdout",
     "output_type": "stream",
     "text": [
      "3868\n",
      "735\n"
     ]
    }
   ],
   "source": [
    "# Count occurrences of positive and negative sentiments\n",
    "positive_count = df_developer_ra[df_developer_ra['sentiment'] == 2]['sentiment'].count()\n",
    "print(positive_count)\n",
    "negative_count = df_developer_ra[df_developer_ra['sentiment'] == 0]['sentiment'].count()\n",
    "print(negative_count)"
   ]
  },
  {
   "cell_type": "code",
   "execution_count": 57,
   "metadata": {},
   "outputs": [],
   "source": [
    "def developer_reviews_analysis(developer_name):\n",
    "    # Load the data from the Parquet file\n",
    "    df_developers = df_best_developers\n",
    "    \n",
    "    # Filter the DataFrame for the specified developer\n",
    "    developer_df = df_developers[df_developers['developer'] == developer_name]\n",
    "\n",
    "    # Count occurrences of positive and negative sentiments\n",
    "    positive_count = developer_df[developer_df['sentiment'] == 2]['sentiment'].count()\n",
    "    negative_count = developer_df[developer_df['sentiment'] == 0]['sentiment'].count()\n",
    "\n",
    "    # Create the dictionary with the counts\n",
    "    result = {\n",
    "        developer_name: {\n",
    "            'Negative': negative_count,\n",
    "            'Positive': positive_count\n",
    "        }\n",
    "    }\n",
    "\n",
    "    return result"
   ]
  },
  {
   "cell_type": "code",
   "execution_count": 58,
   "metadata": {},
   "outputs": [
    {
     "data": {
      "text/plain": [
       "{'Dovetail Games': {'Negative': 3, 'Positive': 19}}"
      ]
     },
     "execution_count": 58,
     "metadata": {},
     "output_type": "execute_result"
    }
   ],
   "source": [
    "developer_reviews_analysis('Dovetail Games')"
   ]
  },
  {
   "cell_type": "code",
   "execution_count": 59,
   "metadata": {},
   "outputs": [
    {
     "data": {
      "text/plain": [
       "{'Capcom': {'Negative': 15, 'Positive': 46}}"
      ]
     },
     "execution_count": 59,
     "metadata": {},
     "output_type": "execute_result"
    }
   ],
   "source": [
    "developer_reviews_analysis('Capcom')"
   ]
  },
  {
   "cell_type": "code",
   "execution_count": 60,
   "metadata": {},
   "outputs": [
    {
     "data": {
      "text/plain": [
       "{'Valve': {'Negative': 735, 'Positive': 3868}}"
      ]
     },
     "execution_count": 60,
     "metadata": {},
     "output_type": "execute_result"
    }
   ],
   "source": [
    "developer_reviews_analysis('Valve')"
   ]
  },
  {
   "cell_type": "code",
   "execution_count": 24,
   "metadata": {},
   "outputs": [],
   "source": [
    "# 3.2.1 **Developer** number of games and percentage of Free content by developer by year\n",
    "df_developer = df_games.copy()\n",
    "df_developer.drop(['item_name','publisher','genres', 'action', 'adventure', 'animation modeling',\n",
    "       'audio production', 'casual', 'design illustration', 'early access',\n",
    "       'education', 'free to play', 'indie', 'massively multiplayer',\n",
    "       'photo editing', 'racing', 'rpg', 'simulation', 'software training',\n",
    "       'sports', 'strategy', 'utilities', 'video production', 'web publishing',\n",
    "       'clean_title'],axis=1, inplace= True)"
   ]
  },
  {
   "cell_type": "code",
   "execution_count": 25,
   "metadata": {},
   "outputs": [
    {
     "data": {
      "text/html": [
       "<div>\n",
       "<style scoped>\n",
       "    .dataframe tbody tr th:only-of-type {\n",
       "        vertical-align: middle;\n",
       "    }\n",
       "\n",
       "    .dataframe tbody tr th {\n",
       "        vertical-align: top;\n",
       "    }\n",
       "\n",
       "    .dataframe thead th {\n",
       "        text-align: right;\n",
       "    }\n",
       "</style>\n",
       "<table border=\"1\" class=\"dataframe\">\n",
       "  <thead>\n",
       "    <tr style=\"text-align: right;\">\n",
       "      <th></th>\n",
       "      <th>user_id</th>\n",
       "      <th>item_id</th>\n",
       "    </tr>\n",
       "  </thead>\n",
       "  <tbody>\n",
       "    <tr>\n",
       "      <th>0</th>\n",
       "      <td>76561197970982479</td>\n",
       "      <td>10</td>\n",
       "    </tr>\n",
       "    <tr>\n",
       "      <th>1</th>\n",
       "      <td>76561197970982479</td>\n",
       "      <td>20</td>\n",
       "    </tr>\n",
       "    <tr>\n",
       "      <th>2</th>\n",
       "      <td>76561197970982479</td>\n",
       "      <td>30</td>\n",
       "    </tr>\n",
       "    <tr>\n",
       "      <th>3</th>\n",
       "      <td>76561197970982479</td>\n",
       "      <td>40</td>\n",
       "    </tr>\n",
       "    <tr>\n",
       "      <th>4</th>\n",
       "      <td>76561197970982479</td>\n",
       "      <td>50</td>\n",
       "    </tr>\n",
       "    <tr>\n",
       "      <th>...</th>\n",
       "      <td>...</td>\n",
       "      <td>...</td>\n",
       "    </tr>\n",
       "    <tr>\n",
       "      <th>5094077</th>\n",
       "      <td>76561198329548331</td>\n",
       "      <td>346330</td>\n",
       "    </tr>\n",
       "    <tr>\n",
       "      <th>5094078</th>\n",
       "      <td>76561198329548331</td>\n",
       "      <td>373330</td>\n",
       "    </tr>\n",
       "    <tr>\n",
       "      <th>5094079</th>\n",
       "      <td>76561198329548331</td>\n",
       "      <td>388490</td>\n",
       "    </tr>\n",
       "    <tr>\n",
       "      <th>5094080</th>\n",
       "      <td>76561198329548331</td>\n",
       "      <td>521570</td>\n",
       "    </tr>\n",
       "    <tr>\n",
       "      <th>5094081</th>\n",
       "      <td>76561198329548331</td>\n",
       "      <td>519140</td>\n",
       "    </tr>\n",
       "  </tbody>\n",
       "</table>\n",
       "<p>5094082 rows × 2 columns</p>\n",
       "</div>"
      ],
      "text/plain": [
       "                   user_id  item_id\n",
       "0        76561197970982479       10\n",
       "1        76561197970982479       20\n",
       "2        76561197970982479       30\n",
       "3        76561197970982479       40\n",
       "4        76561197970982479       50\n",
       "...                    ...      ...\n",
       "5094077  76561198329548331   346330\n",
       "5094078  76561198329548331   373330\n",
       "5094079  76561198329548331   388490\n",
       "5094080  76561198329548331   521570\n",
       "5094081  76561198329548331   519140\n",
       "\n",
       "[5094082 rows x 2 columns]"
      ]
     },
     "execution_count": 25,
     "metadata": {},
     "output_type": "execute_result"
    }
   ],
   "source": [
    "# 3.2.2 **User_data**: how much money has the user spent, what percentage, from the total number of games the user owns, \n",
    "# has the user recommended from the reviews.recommend and how many games he purchased.<br>\n",
    "df_items_users = df_items.copy()\n",
    "df_items_users.drop(['item_name', 'playtime_forever', 'playtime_2weeks'], axis=1, inplace=True)\n",
    "df_items_users"
   ]
  },
  {
   "cell_type": "code",
   "execution_count": 26,
   "metadata": {},
   "outputs": [],
   "source": [
    "# 3.2.3 **User_for_genres**: this function must return the user with more minutes accumulated \n",
    "# for the given genres and a list of minutes accumulated per year since the release date<br>\n",
    "df_user_id_genres = df_items[['user_id','item_id','playtime_forever']].copy()"
   ]
  },
  {
   "cell_type": "markdown",
   "metadata": {},
   "source": [
    "##### This dataframe contains more than 5MM rows son when deploying the function to the API since we have a limited capacity we are only going to keep all users with more than 200 items in their profiles. This will shrink the data in the dataframe (less MB) but the function will still display the correct information. \n",
    "In local, this Function and dataset have run perfectly reflecting the correct information as requested <br>"
   ]
  },
  {
   "cell_type": "code",
   "execution_count": 27,
   "metadata": {},
   "outputs": [
    {
     "data": {
      "text/html": [
       "<div>\n",
       "<style scoped>\n",
       "    .dataframe tbody tr th:only-of-type {\n",
       "        vertical-align: middle;\n",
       "    }\n",
       "\n",
       "    .dataframe tbody tr th {\n",
       "        vertical-align: top;\n",
       "    }\n",
       "\n",
       "    .dataframe thead th {\n",
       "        text-align: right;\n",
       "    }\n",
       "</style>\n",
       "<table border=\"1\" class=\"dataframe\">\n",
       "  <thead>\n",
       "    <tr style=\"text-align: right;\">\n",
       "      <th></th>\n",
       "      <th>user_id</th>\n",
       "      <th>item_id</th>\n",
       "      <th>playtime_forever</th>\n",
       "    </tr>\n",
       "  </thead>\n",
       "  <tbody>\n",
       "    <tr>\n",
       "      <th>0</th>\n",
       "      <td>76561197970982479</td>\n",
       "      <td>10</td>\n",
       "      <td>6</td>\n",
       "    </tr>\n",
       "    <tr>\n",
       "      <th>1</th>\n",
       "      <td>76561197970982479</td>\n",
       "      <td>20</td>\n",
       "      <td>0</td>\n",
       "    </tr>\n",
       "    <tr>\n",
       "      <th>2</th>\n",
       "      <td>76561197970982479</td>\n",
       "      <td>30</td>\n",
       "      <td>7</td>\n",
       "    </tr>\n",
       "    <tr>\n",
       "      <th>3</th>\n",
       "      <td>76561197970982479</td>\n",
       "      <td>40</td>\n",
       "      <td>0</td>\n",
       "    </tr>\n",
       "    <tr>\n",
       "      <th>4</th>\n",
       "      <td>76561197970982479</td>\n",
       "      <td>50</td>\n",
       "      <td>0</td>\n",
       "    </tr>\n",
       "    <tr>\n",
       "      <th>...</th>\n",
       "      <td>...</td>\n",
       "      <td>...</td>\n",
       "      <td>...</td>\n",
       "    </tr>\n",
       "    <tr>\n",
       "      <th>5093867</th>\n",
       "      <td>76561198320136420</td>\n",
       "      <td>500380</td>\n",
       "      <td>0</td>\n",
       "    </tr>\n",
       "    <tr>\n",
       "      <th>5093868</th>\n",
       "      <td>76561198320136420</td>\n",
       "      <td>501050</td>\n",
       "      <td>0</td>\n",
       "    </tr>\n",
       "    <tr>\n",
       "      <th>5093869</th>\n",
       "      <td>76561198320136420</td>\n",
       "      <td>501380</td>\n",
       "      <td>0</td>\n",
       "    </tr>\n",
       "    <tr>\n",
       "      <th>5093870</th>\n",
       "      <td>76561198320136420</td>\n",
       "      <td>502550</td>\n",
       "      <td>0</td>\n",
       "    </tr>\n",
       "    <tr>\n",
       "      <th>5093871</th>\n",
       "      <td>76561198320136420</td>\n",
       "      <td>319630</td>\n",
       "      <td>0</td>\n",
       "    </tr>\n",
       "  </tbody>\n",
       "</table>\n",
       "<p>1791471 rows × 3 columns</p>\n",
       "</div>"
      ],
      "text/plain": [
       "                   user_id  item_id  playtime_forever\n",
       "0        76561197970982479       10                 6\n",
       "1        76561197970982479       20                 0\n",
       "2        76561197970982479       30                 7\n",
       "3        76561197970982479       40                 0\n",
       "4        76561197970982479       50                 0\n",
       "...                    ...      ...               ...\n",
       "5093867  76561198320136420   500380                 0\n",
       "5093868  76561198320136420   501050                 0\n",
       "5093869  76561198320136420   501380                 0\n",
       "5093870  76561198320136420   502550                 0\n",
       "5093871  76561198320136420   319630                 0\n",
       "\n",
       "[1791471 rows x 3 columns]"
      ]
     },
     "execution_count": 27,
     "metadata": {},
     "output_type": "execute_result"
    }
   ],
   "source": [
    "# Group by user_id and count the occurrences of item_id\n",
    "user_id_counts = df_user_id_genres.groupby('user_id')['item_id'].count().reset_index(name='count')\n",
    "\n",
    "# Filter the dataframe to include only user_id's with count greater than a threshold (e.g., 1000)\n",
    "filtered_user_ids = user_id_counts[user_id_counts['count'] > 200]['user_id']\n",
    "\n",
    "# Filter df_user_id_genres based on the filtered user_ids\n",
    "filtered_df = df_user_id_genres[df_user_id_genres['user_id'].isin(filtered_user_ids)]\n",
    "filtered_df"
   ]
  },
  {
   "cell_type": "code",
   "execution_count": 28,
   "metadata": {},
   "outputs": [],
   "source": [
    "# 3.2.4 **Best_developer_year**: this function returns the top 3 developers based on the largest amount of recommendations\n",
    "# for the given year (reviews.recommend = True and sentiment = 2)<br>\n",
    "\n",
    "# 3.2.5 **Developer_Reviews_Analyis**: given a developer, the function returns \n",
    "# a dicctionary with developer as keys and the amount of Positive and Negative Sentiment Reviews.<br> \n",
    "\n",
    "df_best_developers = df_reviews[['item_id','recommend','year','sentiment']].copy()\n",
    "df_best_developers = df_best_developers.merge(df_games[['item_id', 'developer']], on='item_id', how='left') "
   ]
  },
  {
   "cell_type": "markdown",
   "metadata": {},
   "source": [
    "### Now that we finished creating all the functions and all the input dataframes for the Functions we are going to store them "
   ]
  },
  {
   "cell_type": "code",
   "execution_count": 29,
   "metadata": {},
   "outputs": [
    {
     "name": "stdout",
     "output_type": "stream",
     "text": [
      "developers DataFrame was stored into data/developers.parquet\n",
      "best_developers DataFrame was stored into data/best_developer.parquet\n",
      "filtered_df DataFrame was stored into data/user_id_genres.parquet\n",
      "df_items_users DataFrame was stored into data/items_users.parquet\n"
     ]
    }
   ],
   "source": [
    "# Define the file path for storing the Parquet file\n",
    "developers = 'data/developers.parquet'          # Function 3.1\n",
    "items_users = 'data/items_users.parquet'          # Function 3.2\n",
    "user_id_genres = 'data/user_id_genres.parquet'  # Function 3.3\n",
    "best_developers = 'data/best_developer.parquet' # Function 3.4 y 2.5\n",
    "\n",
    "# Store the DataFrame as a Parquet file\n",
    "df_developer.to_parquet(developers, index=False)\n",
    "df_best_developers.to_parquet(best_developers, index=False)\n",
    "df_items_users.to_parquet(items_users, index=False)\n",
    "filtered_df.to_parquet(user_id_genres, index=False)\n",
    "\n",
    "# Print a message confirming the storage location\n",
    "print(f'developers DataFrame was stored into {developers}')\n",
    "print(f'best_developers DataFrame was stored into {best_developers}')\n",
    "print(f'filtered_df DataFrame was stored into {user_id_genres}')\n",
    "print(f'df_items_users DataFrame was stored into {items_users}')"
   ]
  }
 ],
 "metadata": {
  "kernelspec": {
   "display_name": "Python 3",
   "language": "python",
   "name": "python3"
  },
  "language_info": {
   "codemirror_mode": {
    "name": "ipython",
    "version": 3
   },
   "file_extension": ".py",
   "mimetype": "text/x-python",
   "name": "python",
   "nbconvert_exporter": "python",
   "pygments_lexer": "ipython3",
   "version": "3.12.0"
  }
 },
 "nbformat": 4,
 "nbformat_minor": 2
}
